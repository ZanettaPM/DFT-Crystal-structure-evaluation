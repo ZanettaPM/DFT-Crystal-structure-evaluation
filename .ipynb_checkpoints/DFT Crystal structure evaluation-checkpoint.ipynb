{
 "cells": [
  {
   "cell_type": "markdown",
   "metadata": {},
   "source": [
    "# Data Analysis of DFT calculations from VASP\n",
    "\n",
    "Here is an example of the data processing procedure applied in Zanetta et al,. 2022\n",
    "\n",
    "Do not hesitate to contact the author via Github or directly by email (Pierre.marie.zanetta@gmail.com).\n",
    "\n",
    "## Author \n",
    "\n",
    "24/06/2022 Pierre-marie Zanetta # released 01/09/2022\n",
    "\n",
    "## requirements\n",
    "\n",
    "spglib, vaspy and pymatgen"
   ]
  },
  {
   "cell_type": "code",
   "execution_count": 29,
   "metadata": {},
   "outputs": [],
   "source": [
    "%matplotlib inline\n",
    "import numpy as np\n",
    "import matplotlib.pyplot as plt\n",
    "import os\n",
    "import spglib as spg\n",
    "import vaspy\n",
    "from vaspy.iter import OutCar\n",
    "from vaspy.iter import PosCar"
   ]
  },
  {
   "cell_type": "markdown",
   "metadata": {},
   "source": [
    "# Table of contents:\n",
    "* [1. Symmetry estimation](#first-bullet)\n",
    "* [2. Force evaluation on M4 site](#second-bullet)\n",
    "* [3. Distance determination between central atoms and bonded O¶](#third-bullet)\n",
    "* [4. Read vasprun.xml and extract the band structure](#fourth-bullet)"
   ]
  },
  {
   "cell_type": "markdown",
   "metadata": {},
   "source": [
    "## 1. Symmetry estimation<a class=\"anchor\" id=\"first-bullet\"></a>"
   ]
  },
  {
   "cell_type": "code",
   "execution_count": 2,
   "metadata": {},
   "outputs": [],
   "source": [
    "def getListOfFiles(dirName):\n",
    "    # create a list of file and sub directories \n",
    "    # names in the given directory \n",
    "    listOfFile = os.listdir(dirName)\n",
    "    allFiles = list()\n",
    "    # Iterate over all the entries\n",
    "    for entry in listOfFile:\n",
    "        # Create full path\n",
    "        fullPath = os.path.join(dirName, entry)\n",
    "        # If entry is a directory then get the list of files in this directory \n",
    "        if os.path.isdir(fullPath):\n",
    "            allFiles = allFiles + getListOfFiles(fullPath)\n",
    "        else:\n",
    "            allFiles.append(fullPath)\n",
    "                \n",
    "    return allFiles"
   ]
  },
  {
   "cell_type": "code",
   "execution_count": 3,
   "metadata": {},
   "outputs": [],
   "source": [
    "dirName = 'TiAl4fullMgAl3full/4atomsMgTionAl3Al4/';\n",
    "# Get the list of all files in directory tree at given path\n",
    "listOfFiles = getListOfFiles(dirName)"
   ]
  },
  {
   "cell_type": "code",
   "execution_count": 4,
   "metadata": {},
   "outputs": [],
   "source": [
    "cont=[]\n",
    "for file in listOfFiles:\n",
    "        if file.endswith(\"CONTCAR\"):\n",
    "            cont.append(file)\n",
    "        elif file.endswith(\"CONTCAR.01\"):\n",
    "            cont.append(file)\n",
    "        elif file.endswith(\"CONTCAR.02\"):\n",
    "            cont.append(file)\n",
    "        elif file.endswith(\"CONTCAR.03\"):\n",
    "            cont.append(file)"
   ]
  },
  {
   "cell_type": "code",
   "execution_count": 5,
   "metadata": {},
   "outputs": [
    {
     "data": {
      "text/plain": [
       "['TiAl4fullMgAl3full/4atomsMgTionAl3Al4/ISIF7\\\\CONTCAR',\n",
       " 'TiAl4fullMgAl3full/4atomsMgTionAl3Al4/ISIF7\\\\ISIF2\\\\CONTCAR',\n",
       " 'TiAl4fullMgAl3full/4atomsMgTionAl3Al4/ISIF7\\\\ISIF2\\\\ISIF7\\\\CONTCAR',\n",
       " 'TiAl4fullMgAl3full/4atomsMgTionAl3Al4/ISIF7\\\\ISIF2\\\\ISIF7\\\\ISIF2\\\\CONTCAR',\n",
       " 'TiAl4fullMgAl3full/4atomsMgTionAl3Al4/ISIF7\\\\ISIF2\\\\ISIF7\\\\ISIF2\\\\CONTCAR.01',\n",
       " 'TiAl4fullMgAl3full/4atomsMgTionAl3Al4/ISIF7\\\\ISIF2\\\\ISIF7\\\\ISIF2\\\\ISIF7\\\\CONTCAR',\n",
       " 'TiAl4fullMgAl3full/4atomsMgTionAl3Al4/ISIF7\\\\ISIF2\\\\ISIF7\\\\ISIF2\\\\ISIF7\\\\ISIF2\\\\CONTCAR',\n",
       " 'TiAl4fullMgAl3full/4atomsMgTionAl3Al4/ISIF7\\\\ISIF2\\\\ISIF7\\\\ISIF2\\\\ISIF7\\\\ISIF2\\\\CONTCAR.01',\n",
       " 'TiAl4fullMgAl3full/4atomsMgTionAl3Al4/ISIF7\\\\ISIF2\\\\ISIF7\\\\ISIF2\\\\ISIF7\\\\ISIF2\\\\ISMEAR_-5_kmesh_221\\\\CONTCAR',\n",
       " 'TiAl4fullMgAl3full/4atomsMgTionAl3Al4/ISIF7\\\\ISIF2\\\\ISIF7\\\\ISIF2\\\\ISIF7\\\\ISIF2\\\\ISMEAR_-5_kmesh_442\\\\CONTCAR',\n",
       " 'TiAl4fullMgAl3full/4atomsMgTionAl3Al4/ISIF7\\\\ISIF2\\\\ISIF7\\\\ISIF2\\\\ISIF7\\\\ISIF2\\\\ISMEAR_-5_kmesh_442\\\\for_chgcar\\\\CONTCAR']"
      ]
     },
     "execution_count": 5,
     "metadata": {},
     "output_type": "execute_result"
    }
   ],
   "source": [
    "cont.reverse()\n",
    "cont.reverse()\n",
    "cont"
   ]
  },
  {
   "cell_type": "code",
   "execution_count": 6,
   "metadata": {},
   "outputs": [],
   "source": [
    "init=[]\n",
    "for file in listOfFiles:\n",
    "    if file.endswith(\"POSCAR\"):\n",
    "        init.append(file)"
   ]
  },
  {
   "cell_type": "code",
   "execution_count": 7,
   "metadata": {},
   "outputs": [
    {
     "data": {
      "text/plain": [
       "['TiAl4fullMgAl3full/4atomsMgTionAl3Al4/ISIF7\\\\ISIF2\\\\ISIF7\\\\ISIF2\\\\ISIF7\\\\ISIF2\\\\ISMEAR_-5_kmesh_221\\\\POSCAR',\n",
       " 'TiAl4fullMgAl3full/4atomsMgTionAl3Al4/ISIF7\\\\ISIF2\\\\ISIF7\\\\ISIF2\\\\ISIF7\\\\ISIF2\\\\ISMEAR_-5_kmesh_442\\\\for_chgcar\\\\POSCAR',\n",
       " 'TiAl4fullMgAl3full/4atomsMgTionAl3Al4/ISIF7\\\\ISIF2\\\\ISIF7\\\\ISIF2\\\\ISIF7\\\\ISIF2\\\\ISMEAR_-5_kmesh_442\\\\POSCAR',\n",
       " 'TiAl4fullMgAl3full/4atomsMgTionAl3Al4/ISIF7\\\\ISIF2\\\\ISIF7\\\\ISIF2\\\\ISIF7\\\\ISIF2\\\\POSCAR',\n",
       " 'TiAl4fullMgAl3full/4atomsMgTionAl3Al4/ISIF7\\\\ISIF2\\\\ISIF7\\\\ISIF2\\\\ISIF7\\\\POSCAR',\n",
       " 'TiAl4fullMgAl3full/4atomsMgTionAl3Al4/ISIF7\\\\ISIF2\\\\ISIF7\\\\ISIF2\\\\POSCAR',\n",
       " 'TiAl4fullMgAl3full/4atomsMgTionAl3Al4/ISIF7\\\\ISIF2\\\\ISIF7\\\\POSCAR',\n",
       " 'TiAl4fullMgAl3full/4atomsMgTionAl3Al4/ISIF7\\\\ISIF2\\\\POSCAR',\n",
       " 'TiAl4fullMgAl3full/4atomsMgTionAl3Al4/ISIF7\\\\POSCAR',\n",
       " 'TiAl4fullMgAl3full/4atomsMgTionAl3Al4/POSCAR']"
      ]
     },
     "execution_count": 7,
     "metadata": {},
     "output_type": "execute_result"
    }
   ],
   "source": [
    "init"
   ]
  },
  {
   "cell_type": "code",
   "execution_count": 8,
   "metadata": {},
   "outputs": [],
   "source": [
    "init=PosCar(init[-1])"
   ]
  },
  {
   "cell_type": "code",
   "execution_count": 9,
   "metadata": {},
   "outputs": [
    {
     "name": "stdout",
     "output_type": "stream",
     "text": [
      "P6_3/mmc (194)\n",
      "0\n",
      "P6_3/mmc (194)\n",
      "1\n",
      "P6_3/mmc (194)\n",
      "2\n",
      "P6_3/mmc (194)\n",
      "3\n",
      "P6_3/mmc (194)\n",
      "4\n",
      "P6_3/mmc (194)\n",
      "5\n",
      "P6_3/mmc (194)\n",
      "6\n",
      "P6_3/mmc (194)\n",
      "7\n"
     ]
    }
   ],
   "source": [
    "for i in range (0,len(cont)-3):\n",
    "    # read the structural info for all files\n",
    "    cont1= PosCar(cont[i])\n",
    "    lattice=cont1.bases\n",
    "    positions=cont1.data\n",
    "    numbers=[]\n",
    "    atom=[]\n",
    "    \n",
    "    ### create a list with the atom numbers (refer to the contcar file 1 is Al, 2 is Ca etc. Alphabetically)\n",
    "    for j in range (0, len(cont1.atom_numbers)):\n",
    "        for k in range (0,cont1.atom_numbers[j]):\n",
    "            numbers.append(j+1)\n",
    "            atom.append(cont1.atom_types[j])\n",
    "    ## replace all Ti and Mg with Al (Mg and Ti are the number 3 and 5 alphabatically)\n",
    "    for j in range (0,len (numbers)):\n",
    "        if numbers[j]==3:\n",
    "            numbers[j]=1\n",
    "        if numbers[j]==5:\n",
    "            numbers[j]=1\n",
    "            \n",
    "        variation=abs(init.data-positions)\n",
    "    \n",
    "        mask=variation >0.9\n",
    "                \n",
    "        positions[mask]=positions[mask]-1\n",
    "                \n",
    "        variation[:,0]=variation[:,0]*lattice[0,0]\n",
    "        variation[:,1]=variation[:,1]*lattice[0,0]\n",
    "        variation[:,2]=variation[:,2]*lattice[2,2]\n",
    "\n",
    "        \n",
    "   \n",
    "#     positions=np.delete(positions,slice(152,200),0) # remove O4 Wickoff site\n",
    "#     numbers=np.delete(numbers,slice(152,200),0)  #remove O4 Wickoff site\n",
    "#     atom=np.delete(atom,slice(152,200),0)  #remove O4 Wickoff site\n",
    "    \n",
    "\n",
    "\n",
    "#     positions=np.delete(positions,slice(88,240),0) # remove O\n",
    "#     numbers=np.delete(numbers,slice(88,240),0)  #remove O\n",
    "#     atom=np.delete(atom,slice(88,240),0)  #remove O\n",
    "    \n",
    "#     positions=np.delete(positions,slice(64,72),0) # remove Ca Wickoff site\n",
    "#     numbers=np.delete(numbers,slice(64,72),0)  #remove Ca Wickoff site\n",
    "#     atom=np.delete(atom,slice(64,72),0)  #remove Ca Wickoff site\n",
    "    \n",
    "#     positions=np.delete(positions,slice(240,248),0) # remove Al2 Wickoff site\n",
    "#     numbers=np.delete(numbers,slice(240,248),0)  #remove Al2 Wickoff site\n",
    "#     atom=np.delete(atom,slice(240,248),0)  #remove Al2 Wickoff site\n",
    "    \n",
    "    \n",
    "    cell=(lattice,positions,numbers)\n",
    "    ### find the primitive cell (pass from supercell to unique cell)\n",
    "    cell2=spg.find_primitive(cell,symprec=1e-2)\n",
    "    spacegroup = spg.get_spacegroup(cell2, symprec=0.97)\n",
    "    #cell3= do average of atomic positions\n",
    "#     spacegroup = spg.get_spacegroup(cell2, symprec=1e-1)\n",
    "    print (spacegroup)\n",
    "    print(i)"
   ]
  },
  {
   "cell_type": "code",
   "execution_count": 10,
   "metadata": {},
   "outputs": [
    {
     "name": "stdout",
     "output_type": "stream",
     "text": [
      "64\n",
      "72\n",
      "88\n",
      "240\n"
     ]
    }
   ],
   "source": [
    "atoml=list(atom)\n",
    "print(atoml.index('Ca'))\n",
    "print(atoml.index('Mg'))\n",
    "print(atoml.index('O'))\n",
    "print(atoml.index('Ti'))"
   ]
  },
  {
   "cell_type": "code",
   "execution_count": 11,
   "metadata": {},
   "outputs": [],
   "source": [
    "mask=variation<0.9\n",
    "np.max(variation[mask])\n",
    "variation[~mask]=0"
   ]
  },
  {
   "cell_type": "code",
   "execution_count": 12,
   "metadata": {},
   "outputs": [
    {
     "data": {
      "text/plain": [
       "<matplotlib.colorbar.Colorbar at 0x282c51ed0a0>"
      ]
     },
     "execution_count": 12,
     "metadata": {},
     "output_type": "execute_result"
    },
    {
     "data": {
      "image/png": "[encoded data removed]",
      "text/plain": [
       "<Figure size 432x288 with 2 Axes>"
      ]
     },
     "metadata": {
      "needs_background": "light"
     },
     "output_type": "display_data"
    }
   ],
   "source": [
    "from mpl_toolkits import mplot3d\n",
    "\n",
    "\n",
    "fig = plt.figure()\n",
    "# ax = fig.add_subplot(2, 2, 1, projection='3d')\n",
    "\n",
    "# # ax = plt.axes(projection='3d')\n",
    "# p=ax.scatter3D(positions[:,0],positions[:,1], positions[:,2], s=variation[:,0]*1000 , c=variation[:,0], cmap='inferno');\n",
    "# fig.colorbar(p)\n",
    "\n",
    "# ax = fig.add_subplot(2, 2, 2, projection='3d')\n",
    "# p=ax.scatter3D(positions[:,0],positions[:,1], positions[:,2], s=variation[:,1]*1000 , c=variation[:,1], cmap='inferno');\n",
    "# fig.colorbar(p)\n",
    "\n",
    "ax = fig.add_subplot(1, 1, 1, projection='3d')\n",
    "\n",
    "p=ax.scatter3D(positions[:,0],positions[:,1], positions[:,2], s=variation[:,2]*1000 , c=variation[:,2], cmap='inferno');\n",
    "fig.colorbar(p)"
   ]
  },
  {
   "cell_type": "markdown",
   "metadata": {},
   "source": [
    "## 2. Force evaluation on M4 site<a class=\"anchor\" id=\"second-bullet\"></a>"
   ]
  },
  {
   "cell_type": "code",
   "execution_count": 13,
   "metadata": {},
   "outputs": [
    {
     "name": "stdout",
     "output_type": "stream",
     "text": [
      "C:\\Users\\Pierre-Marie\\Documents\\GitHub\\DFT-Crystal-structure-evaluation\\TiAl4fullMgAl3full\\4atomsMgTionAl3Al4\\ISIF7\n"
     ]
    }
   ],
   "source": [
    "cd \"TiAl4fullMgAl3full/4atomsMgTionAl3Al4/ISIF7/\"\""
   ]
  },
  {
   "cell_type": "code",
   "execution_count": 14,
   "metadata": {},
   "outputs": [],
   "source": [
    "poscar = PosCar('POSCAR')\n",
    "outcar = OutCar('OUTCAR')"
   ]
  },
  {
   "cell_type": "code",
   "execution_count": 15,
   "metadata": {},
   "outputs": [],
   "source": [
    "a=poscar.bases[1][1]\n",
    "c=poscar.bases[2][2]"
   ]
  },
  {
   "cell_type": "code",
   "execution_count": 16,
   "metadata": {},
   "outputs": [],
   "source": [
    "zdisp=0.25*c\n",
    "zdisp2=0.75*c"
   ]
  },
  {
   "cell_type": "code",
   "execution_count": 17,
   "metadata": {},
   "outputs": [],
   "source": [
    "c=[]\n",
    "fo=[]\n",
    "for f in outcar.iforces:\n",
    "    c.append(f.coordinates)\n",
    "    fo.append(f.forces)"
   ]
  },
  {
   "cell_type": "code",
   "execution_count": 18,
   "metadata": {},
   "outputs": [],
   "source": [
    "p1=[]\n",
    "p2=[]\n",
    "p3=[]\n",
    "p4=[]\n",
    "f1=[]\n",
    "f2=[]\n",
    "f3=[]\n",
    "f4=[]\n",
    "step=[]\n",
    "\n",
    "for i in range (0,len(c)):\n",
    "    step.append(i)\n",
    "    p1.append((c[i][8:12][0][2]))\n",
    "    p2.append((c[i][8:12][1][2]))\n",
    "    p3.append((c[i][8:12][2][2]))\n",
    "    p4.append((c[i][8:12][3][2]))\n",
    "    f1.append((fo[i][8:12][0][2]))\n",
    "    f2.append((fo[i][8:12][1][2]))\n",
    "    f3.append((fo[i][8:12][2][2]))\n",
    "    f4.append((fo[i][8:12][3][2]))"
   ]
  },
  {
   "cell_type": "code",
   "execution_count": 19,
   "metadata": {},
   "outputs": [
    {
     "data": {
      "text/plain": [
       "Text(0.5, 0, 'steps')"
      ]
     },
     "execution_count": 19,
     "metadata": {},
     "output_type": "execute_result"
    },
    {
     "data": {
      "image/png": "[encoded data removed]",
      "text/plain": [
       "<Figure size 432x288 with 6 Axes>"
      ]
     },
     "metadata": {
      "needs_background": "light"
     },
     "output_type": "display_data"
    }
   ],
   "source": [
    "fig=plt.figure()\n",
    "ax1=plt.subplot(321)\n",
    "plt.plot(step,f1,'-')\n",
    "plt.text(0.45, 1.3, \"position 1\", fontweight=\"bold\", transform=ax1.transAxes)\n",
    "plt.xlabel('steps')\n",
    "plt.ylabel('forces')\n",
    "plt.subplot(323)\n",
    "plt.plot(p1,f1,'-')\n",
    "plt.xlabel('atoms displacement A')\n",
    "plt.ylabel('forces')\n",
    "ax2=plt.subplot(322)\n",
    "plt.plot(step,f2,'-')\n",
    "plt.text(0.45, 1.3, \"position 2\", fontweight=\"bold\", transform=ax2.transAxes)\n",
    "plt.xlabel('steps')\n",
    "plt.ylabel('forces')\n",
    "plt.subplot(324)\n",
    "plt.plot(p2,f2,'-')\n",
    "plt.xlabel('atoms displacement A')\n",
    "plt.ylabel('forces')\n",
    "plt.subplot(325)\n",
    "plt.plot(step,p1,'.')\n",
    "plt.ylabel('atoms displacement A in the unit cell')\n",
    "plt.xlabel('steps')\n",
    "plt.subplot(326)\n",
    "plt.plot(step,p2,'.')\n",
    "plt.ylabel('atoms displacement A in the unit cell')\n",
    "plt.xlabel('steps')\n"
   ]
  },
  {
   "cell_type": "code",
   "execution_count": 20,
   "metadata": {},
   "outputs": [],
   "source": [
    "totdisp=[]\n",
    "totdisp=p1\n",
    "totdisp.extend(p2)\n",
    "totf=[]\n",
    "totf=f1\n",
    "totf.extend(f2)"
   ]
  },
  {
   "cell_type": "code",
   "execution_count": 21,
   "metadata": {},
   "outputs": [
    {
     "data": {
      "text/plain": [
       "Text(0.5, 1.0, 'force vs step')"
      ]
     },
     "execution_count": 21,
     "metadata": {},
     "output_type": "execute_result"
    },
    {
     "data": {
      "image/png": "[encoded data removed]",
      "text/plain": [
       "<Figure size 432x288 with 1 Axes>"
      ]
     },
     "metadata": {
      "needs_background": "light"
     },
     "output_type": "display_data"
    }
   ],
   "source": [
    "plt.figure()\n",
    "plt.plot(totdisp,totf,'-')\n",
    "plt.title('force vs step')"
   ]
  },
  {
   "cell_type": "markdown",
   "metadata": {},
   "source": [
    "## 3. Distance determination between central atoms and bonded O<a class=\"anchor\" id=\"third-bullet\"></a>"
   ]
  },
  {
   "cell_type": "code",
   "execution_count": 22,
   "metadata": {},
   "outputs": [],
   "source": [
    "from pymatgen.core import Lattice, Structure\n",
    "from pymatgen.analysis import local_env"
   ]
  },
  {
   "cell_type": "code",
   "execution_count": 23,
   "metadata": {},
   "outputs": [],
   "source": [
    "import glob"
   ]
  },
  {
   "cell_type": "code",
   "execution_count": 24,
   "metadata": {},
   "outputs": [
    {
     "name": "stdout",
     "output_type": "stream",
     "text": [
      "[WinError 3] The system cannot find the path specified: 'TiAl4fullMgAl3full/4atomsMgTionAl3Al4/ISIF7\\\\\\\\ISIF2\\\\\\\\ISIF7\\\\\\\\ISIF2\\\\\\\\ISIF7\\\\\\\\ISIF2\\\\\\\\ISMEAR_-5_kmesh_442\\\\'\n",
      "C:\\Users\\Pierre-Marie\\Documents\\GitHub\\DFT-Crystal-structure-evaluation\\TiAl4fullMgAl3full\\4atomsMgTionAl3Al4\\ISIF7\n"
     ]
    }
   ],
   "source": [
    "cd TiAl4fullMgAl3full/4atomsMgTionAl3Al4/ISIF7\\\\ISIF2\\\\ISIF7\\\\ISIF2\\\\ISIF7\\\\ISIF2\\\\ISMEAR_-5_kmesh_442\\"
   ]
  },
  {
   "cell_type": "code",
   "execution_count": 25,
   "metadata": {},
   "outputs": [],
   "source": [
    "targetPattern = r\"Contcar\"\n",
    "cell=Structure.from_file(glob.glob(targetPattern)[0])"
   ]
  },
  {
   "cell_type": "code",
   "execution_count": 26,
   "metadata": {},
   "outputs": [
    {
     "data": {
      "text/plain": [
       "Structure Summary\n",
       "Lattice\n",
       "    abc : 11.465310230306784 11.465310230276426 22.419978872421183\n",
       " angles : 90.0 90.0 120.0000000000876\n",
       " volume : 2552.3336812311786\n",
       "      A : 11.465310230306784 0.0 0.0\n",
       "      B : -5.732655115153392 9.929249921680233 0.0\n",
       "      C : 0.0 0.0 22.419978872421183\n",
       "PeriodicSite: Al (0.0000, 0.0000, 0.0000) [0.0000, 0.0000, 0.0000]\n",
       "PeriodicSite: Al (0.0000, 0.0000, 11.2100) [0.0000, 0.0000, 0.5000]\n",
       "PeriodicSite: Al (8.5990, 4.9646, 0.0000) [1.0000, 0.5000, 0.0000]\n",
       "PeriodicSite: Al (8.5990, 4.9646, 11.2100) [1.0000, 0.5000, 0.5000]\n",
       "PeriodicSite: Al (5.7327, 0.0000, 0.0000) [0.5000, 0.0000, 0.0000]\n",
       "PeriodicSite: Al (5.7327, 0.0000, 11.2100) [0.5000, 0.0000, 0.5000]\n",
       "PeriodicSite: Al (2.8663, 4.9646, 0.0000) [0.5000, 0.5000, 0.0000]\n",
       "PeriodicSite: Al (2.8663, 4.9646, 11.2100) [0.5000, 0.5000, 0.5000]\n",
       "PeriodicSite: Al (0.0000, 0.0000, 5.6050) [0.0000, 0.0000, 0.2500]\n",
       "PeriodicSite: Al (0.0000, 0.0000, 16.8150) [0.0000, 0.0000, 0.7500]\n",
       "PeriodicSite: Al (8.5990, 4.9646, 5.6050) [1.0000, 0.5000, 0.2500]\n",
       "PeriodicSite: Al (8.5990, 4.9646, 16.8150) [1.0000, 0.5000, 0.7500]\n",
       "PeriodicSite: Al (5.7327, 0.0000, 5.6050) [0.5000, 0.0000, 0.2500]\n",
       "PeriodicSite: Al (5.7327, 0.0000, 16.8150) [0.5000, 0.0000, 0.7500]\n",
       "PeriodicSite: Al (2.8663, 4.9646, 5.6050) [0.5000, 0.5000, 0.2500]\n",
       "PeriodicSite: Al (2.8663, 4.9646, 16.8150) [0.5000, 0.5000, 0.7500]\n",
       "PeriodicSite: Al (4.2863, 0.8350, 2.4680) [0.4159, 0.0841, 0.1101]\n",
       "PeriodicSite: Al (2.8663, 3.2945, 2.4680) [0.4159, 0.3318, 0.1101]\n",
       "PeriodicSite: Al (1.4463, 0.8350, 2.4680) [0.1682, 0.0841, 0.1101]\n",
       "PeriodicSite: Al (-1.4200, 4.1296, 13.6780) [0.0841, 0.4159, 0.6101]\n",
       "PeriodicSite: Al (-0.0000, 1.6701, 13.6780) [0.0841, 0.1682, 0.6101]\n",
       "PeriodicSite: Al (1.4200, 4.1296, 13.6780) [0.3318, 0.4159, 0.6101]\n",
       "PeriodicSite: Al (-1.4200, 4.1296, 19.9520) [0.0841, 0.4159, 0.8899]\n",
       "PeriodicSite: Al (1.4200, 4.1296, 19.9520) [0.3318, 0.4159, 0.8899]\n",
       "PeriodicSite: Al (-0.0000, 1.6701, 19.9520) [0.0841, 0.1682, 0.8899]\n",
       "PeriodicSite: Al (4.2863, 0.8350, 8.7420) [0.4159, 0.0841, 0.3899]\n",
       "PeriodicSite: Al (1.4463, 0.8350, 8.7420) [0.1682, 0.0841, 0.3899]\n",
       "PeriodicSite: Al (2.8663, 3.2945, 8.7420) [0.4159, 0.3318, 0.3899]\n",
       "PeriodicSite: Al (1.4200, 5.7997, 2.4680) [0.4159, 0.5841, 0.1101]\n",
       "PeriodicSite: Al (0.0000, 8.2591, 2.4680) [0.4159, 0.8318, 0.1101]\n",
       "PeriodicSite: Al (-1.4200, 5.7997, 2.4680) [0.1682, 0.5841, 0.1101]\n",
       "PeriodicSite: Al (-4.2863, 9.0942, 13.6780) [0.0841, 0.9159, 0.6101]\n",
       "PeriodicSite: Al (-2.8663, 6.6347, 13.6780) [0.0841, 0.6682, 0.6101]\n",
       "PeriodicSite: Al (-1.4463, 9.0942, 13.6780) [0.3318, 0.9159, 0.6101]\n",
       "PeriodicSite: Al (-4.2863, 9.0942, 19.9520) [0.0841, 0.9159, 0.8899]\n",
       "PeriodicSite: Al (-1.4463, 9.0942, 19.9520) [0.3318, 0.9159, 0.8899]\n",
       "PeriodicSite: Al (-2.8663, 6.6347, 19.9520) [0.0841, 0.6682, 0.8899]\n",
       "PeriodicSite: Al (1.4200, 5.7997, 8.7420) [0.4159, 0.5841, 0.3899]\n",
       "PeriodicSite: Al (-1.4200, 5.7997, 8.7420) [0.1682, 0.5841, 0.3899]\n",
       "PeriodicSite: Al (0.0000, 8.2591, 8.7420) [0.4159, 0.8318, 0.3899]\n",
       "PeriodicSite: Al (10.0190, 0.8350, 2.4680) [0.9159, 0.0841, 0.1101]\n",
       "PeriodicSite: Al (8.5990, 3.2945, 2.4680) [0.9159, 0.3318, 0.1101]\n",
       "PeriodicSite: Al (7.1790, 0.8350, 2.4680) [0.6682, 0.0841, 0.1101]\n",
       "PeriodicSite: Al (4.3127, 4.1296, 13.6780) [0.5841, 0.4159, 0.6101]\n",
       "PeriodicSite: Al (5.7327, 1.6701, 13.6780) [0.5841, 0.1682, 0.6101]\n",
       "PeriodicSite: Al (7.1526, 4.1296, 13.6780) [0.8318, 0.4159, 0.6101]\n",
       "PeriodicSite: Al (4.3127, 4.1296, 19.9520) [0.5841, 0.4159, 0.8899]\n",
       "PeriodicSite: Al (7.1526, 4.1296, 19.9520) [0.8318, 0.4159, 0.8899]\n",
       "PeriodicSite: Al (5.7327, 1.6701, 19.9520) [0.5841, 0.1682, 0.8899]\n",
       "PeriodicSite: Al (10.0190, 0.8350, 8.7420) [0.9159, 0.0841, 0.3899]\n",
       "PeriodicSite: Al (7.1790, 0.8350, 8.7420) [0.6682, 0.0841, 0.3899]\n",
       "PeriodicSite: Al (8.5990, 3.2945, 8.7420) [0.9159, 0.3318, 0.3899]\n",
       "PeriodicSite: Al (7.1526, 5.7997, 2.4680) [0.9159, 0.5841, 0.1101]\n",
       "PeriodicSite: Al (5.7327, 8.2591, 2.4680) [0.9159, 0.8318, 0.1101]\n",
       "PeriodicSite: Al (4.3127, 5.7997, 2.4680) [0.6682, 0.5841, 0.1101]\n",
       "PeriodicSite: Al (1.4463, 9.0942, 13.6780) [0.5841, 0.9159, 0.6101]\n",
       "PeriodicSite: Al (2.8663, 6.6347, 13.6780) [0.5841, 0.6682, 0.6101]\n",
       "PeriodicSite: Al (4.2863, 9.0942, 13.6780) [0.8318, 0.9159, 0.6101]\n",
       "PeriodicSite: Al (1.4463, 9.0942, 19.9520) [0.5841, 0.9159, 0.8899]\n",
       "PeriodicSite: Al (4.2863, 9.0942, 19.9520) [0.8318, 0.9159, 0.8899]\n",
       "PeriodicSite: Al (2.8663, 6.6347, 19.9520) [0.5841, 0.6682, 0.8899]\n",
       "PeriodicSite: Al (7.1526, 5.7997, 8.7420) [0.9159, 0.5841, 0.3899]\n",
       "PeriodicSite: Al (4.3127, 5.7997, 8.7420) [0.6682, 0.5841, 0.3899]\n",
       "PeriodicSite: Al (5.7327, 8.2591, 8.7420) [0.9159, 0.8318, 0.3899]\n",
       "PeriodicSite: Ca (2.8663, 1.6549, 5.6088) [0.3333, 0.1667, 0.2502]\n",
       "PeriodicSite: Ca (0.0001, 3.3097, 16.8188) [0.1667, 0.3333, 0.7502]\n",
       "PeriodicSite: Ca (-0.0001, 6.6195, 5.6088) [0.3333, 0.6667, 0.2502]\n",
       "PeriodicSite: Ca (-2.8663, 8.2743, 16.8188) [0.1667, 0.8333, 0.7502]\n",
       "PeriodicSite: Ca (8.5989, 1.6549, 5.6088) [0.8333, 0.1667, 0.2502]\n",
       "PeriodicSite: Ca (5.7327, 3.3097, 16.8188) [0.6667, 0.3333, 0.7502]\n",
       "PeriodicSite: Ca (5.7326, 6.6195, 5.6088) [0.8333, 0.6667, 0.2502]\n",
       "PeriodicSite: Ca (2.8664, 8.2743, 16.8188) [0.6667, 0.8333, 0.7502]\n",
       "PeriodicSite: Mg (0.0001, 3.3097, 0.6473) [0.1667, 0.3333, 0.0289]\n",
       "PeriodicSite: Mg (2.8663, 1.6549, 11.8573) [0.3333, 0.1667, 0.5289]\n",
       "PeriodicSite: Mg (2.8663, 1.6549, 21.7727) [0.3333, 0.1667, 0.9711]\n",
       "PeriodicSite: Mg (0.0001, 3.3097, 10.5627) [0.1667, 0.3333, 0.4711]\n",
       "PeriodicSite: Mg (-2.8663, 8.2743, 0.6473) [0.1667, 0.8333, 0.0289]\n",
       "PeriodicSite: Mg (-0.0001, 6.6195, 11.8573) [0.3333, 0.6667, 0.5289]\n",
       "PeriodicSite: Mg (-0.0001, 6.6195, 21.7727) [0.3333, 0.6667, 0.9711]\n",
       "PeriodicSite: Mg (-2.8663, 8.2743, 10.5627) [0.1667, 0.8333, 0.4711]\n",
       "PeriodicSite: Mg (5.7327, 3.3097, 0.6473) [0.6667, 0.3333, 0.0289]\n",
       "PeriodicSite: Mg (8.5989, 1.6549, 11.8573) [0.8333, 0.1667, 0.5289]\n",
       "PeriodicSite: Mg (8.5989, 1.6549, 21.7727) [0.8333, 0.1667, 0.9711]\n",
       "PeriodicSite: Mg (5.7327, 3.3097, 10.5627) [0.6667, 0.3333, 0.4711]\n",
       "PeriodicSite: Mg (2.8664, 8.2743, 0.6473) [0.6667, 0.8333, 0.0289]\n",
       "PeriodicSite: Mg (5.7326, 6.6195, 11.8573) [0.8333, 0.6667, 0.5289]\n",
       "PeriodicSite: Mg (5.7326, 6.6195, 21.7727) [0.8333, 0.6667, 0.9711]\n",
       "PeriodicSite: Mg (2.8664, 8.2743, 10.5627) [0.6667, 0.8333, 0.4711]\n",
       "PeriodicSite: O (0.0000, 0.0000, 3.3935) [0.0000, 0.0000, 0.1514]\n",
       "PeriodicSite: O (0.0000, 0.0000, 14.6035) [0.0000, 0.0000, 0.6514]\n",
       "PeriodicSite: O (0.0000, 0.0000, 19.0265) [0.0000, 0.0000, 0.8486]\n",
       "PeriodicSite: O (0.0000, 0.0000, 7.8165) [0.0000, 0.0000, 0.3486]\n",
       "PeriodicSite: O (8.5990, 4.9646, 3.3935) [1.0000, 0.5000, 0.1514]\n",
       "PeriodicSite: O (8.5990, 4.9646, 14.6035) [1.0000, 0.5000, 0.6514]\n",
       "PeriodicSite: O (8.5990, 4.9646, 19.0265) [1.0000, 0.5000, 0.8486]\n",
       "PeriodicSite: O (8.5990, 4.9646, 7.8165) [1.0000, 0.5000, 0.3486]\n",
       "PeriodicSite: O (5.7327, 0.0000, 3.3935) [0.5000, 0.0000, 0.1514]\n",
       "PeriodicSite: O (5.7327, 0.0000, 14.6035) [0.5000, 0.0000, 0.6514]\n",
       "PeriodicSite: O (5.7327, 0.0000, 19.0265) [0.5000, 0.0000, 0.8486]\n",
       "PeriodicSite: O (5.7327, 0.0000, 7.8165) [0.5000, 0.0000, 0.3486]\n",
       "PeriodicSite: O (2.8663, 4.9646, 3.3935) [0.5000, 0.5000, 0.1514]\n",
       "PeriodicSite: O (2.8663, 4.9646, 14.6035) [0.5000, 0.5000, 0.6514]\n",
       "PeriodicSite: O (2.8663, 4.9646, 19.0265) [0.5000, 0.5000, 0.8486]\n",
       "PeriodicSite: O (2.8663, 4.9646, 7.8165) [0.5000, 0.5000, 0.3486]\n",
       "PeriodicSite: O (0.0001, 3.3097, 21.2057) [0.1667, 0.3333, 0.9458]\n",
       "PeriodicSite: O (2.8663, 1.6549, 9.9957) [0.3333, 0.1667, 0.4458]\n",
       "PeriodicSite: O (2.8663, 1.6549, 1.2143) [0.3333, 0.1667, 0.0542]\n",
       "PeriodicSite: O (0.0001, 3.3097, 12.4243) [0.1667, 0.3333, 0.5542]\n",
       "PeriodicSite: O (-2.8663, 8.2743, 21.2057) [0.1667, 0.8333, 0.9458]\n",
       "PeriodicSite: O (-0.0001, 6.6195, 9.9957) [0.3333, 0.6667, 0.4458]\n",
       "PeriodicSite: O (-0.0001, 6.6195, 1.2143) [0.3333, 0.6667, 0.0542]\n",
       "PeriodicSite: O (-2.8663, 8.2743, 12.4243) [0.1667, 0.8333, 0.5542]\n",
       "PeriodicSite: O (5.7327, 3.3097, 21.2057) [0.6667, 0.3333, 0.9458]\n",
       "PeriodicSite: O (8.5989, 1.6549, 9.9957) [0.8333, 0.1667, 0.4458]\n",
       "PeriodicSite: O (8.5989, 1.6549, 1.2143) [0.8333, 0.1667, 0.0542]\n",
       "PeriodicSite: O (5.7327, 3.3097, 12.4243) [0.6667, 0.3333, 0.5542]\n",
       "PeriodicSite: O (2.8664, 8.2743, 21.2057) [0.6667, 0.8333, 0.9458]\n",
       "PeriodicSite: O (5.7326, 6.6195, 9.9957) [0.8333, 0.6667, 0.4458]\n",
       "PeriodicSite: O (5.7326, 6.6195, 1.2143) [0.8333, 0.6667, 0.0542]\n",
       "PeriodicSite: O (2.8664, 8.2743, 12.4243) [0.6667, 0.8333, 0.5542]\n",
       "PeriodicSite: O (-1.3041, 4.0627, 5.6124) [0.0908, 0.4092, 0.2503]\n",
       "PeriodicSite: O (-0.0001, 1.8040, 5.6124) [0.0908, 0.1817, 0.2503]\n",
       "PeriodicSite: O (1.3039, 4.0627, 5.6124) [0.3183, 0.4092, 0.2503]\n",
       "PeriodicSite: O (4.1704, 0.9020, 16.8224) [0.4092, 0.0908, 0.7503]\n",
       "PeriodicSite: O (2.8664, 3.1606, 16.8224) [0.4092, 0.3183, 0.7503]\n",
       "PeriodicSite: O (1.5624, 0.9020, 16.8224) [0.1817, 0.0908, 0.7503]\n",
       "PeriodicSite: O (-4.1704, 9.0273, 5.6124) [0.0908, 0.9092, 0.2503]\n",
       "PeriodicSite: O (-2.8664, 6.7687, 5.6124) [0.0908, 0.6817, 0.2503]\n",
       "PeriodicSite: O (-1.5624, 9.0273, 5.6124) [0.3183, 0.9092, 0.2503]\n",
       "PeriodicSite: O (1.3041, 5.8666, 16.8224) [0.4092, 0.5908, 0.7503]\n",
       "PeriodicSite: O (0.0001, 8.1252, 16.8224) [0.4092, 0.8183, 0.7503]\n",
       "PeriodicSite: O (-1.3039, 5.8666, 16.8224) [0.1817, 0.5908, 0.7503]\n",
       "PeriodicSite: O (4.4286, 4.0627, 5.6124) [0.5908, 0.4092, 0.2503]\n",
       "PeriodicSite: O (5.7326, 1.8040, 5.6124) [0.5908, 0.1817, 0.2503]\n",
       "PeriodicSite: O (7.0366, 4.0627, 5.6124) [0.8183, 0.4092, 0.2503]\n",
       "PeriodicSite: O (9.9030, 0.9020, 16.8224) [0.9092, 0.0908, 0.7503]\n",
       "PeriodicSite: O (8.5990, 3.1606, 16.8224) [0.9092, 0.3183, 0.7503]\n",
       "PeriodicSite: O (7.2950, 0.9020, 16.8224) [0.6817, 0.0908, 0.7503]\n",
       "PeriodicSite: O (1.5623, 9.0273, 5.6124) [0.5908, 0.9092, 0.2503]\n",
       "PeriodicSite: O (2.8663, 6.7687, 5.6124) [0.5908, 0.6817, 0.2503]\n",
       "PeriodicSite: O (4.1703, 9.0273, 5.6124) [0.8183, 0.9092, 0.2503]\n",
       "PeriodicSite: O (7.0367, 5.8666, 16.8224) [0.9092, 0.5908, 0.7503]\n",
       "PeriodicSite: O (5.7327, 8.1252, 16.8224) [0.9092, 0.8183, 0.7503]\n",
       "PeriodicSite: O (4.4287, 5.8666, 16.8224) [0.6817, 0.5908, 0.7503]\n",
       "PeriodicSite: O (-1.5335, 4.1951, 1.1847) [0.0775, 0.4225, 0.0528]\n",
       "PeriodicSite: O (-0.0000, 1.5390, 1.1847) [0.0775, 0.1550, 0.0528]\n",
       "PeriodicSite: O (1.5335, 4.1951, 1.1847) [0.3450, 0.4225, 0.0528]\n",
       "PeriodicSite: O (4.3998, 0.7695, 12.3947) [0.4225, 0.0775, 0.5528]\n",
       "PeriodicSite: O (2.8663, 3.4256, 12.3947) [0.4225, 0.3450, 0.5528]\n",
       "PeriodicSite: O (1.3328, 0.7695, 12.3947) [0.1550, 0.0775, 0.5528]\n",
       "PeriodicSite: O (4.3998, 0.7695, 21.2353) [0.4225, 0.0775, 0.9472]\n",
       "PeriodicSite: O (1.3328, 0.7695, 21.2353) [0.1550, 0.0775, 0.9472]\n",
       "PeriodicSite: O (2.8663, 3.4256, 21.2353) [0.4225, 0.3450, 0.9472]\n",
       "PeriodicSite: O (-1.5335, 4.1951, 10.0253) [0.0775, 0.4225, 0.4472]\n",
       "PeriodicSite: O (1.5335, 4.1951, 10.0253) [0.3450, 0.4225, 0.4472]\n",
       "PeriodicSite: O (-0.0000, 1.5390, 10.0253) [0.0775, 0.1550, 0.4472]\n",
       "PeriodicSite: O (-4.3998, 9.1597, 1.1847) [0.0775, 0.9225, 0.0528]\n",
       "PeriodicSite: O (-2.8663, 6.5037, 1.1847) [0.0775, 0.6550, 0.0528]\n",
       "PeriodicSite: O (-1.3328, 9.1597, 1.1847) [0.3450, 0.9225, 0.0528]\n",
       "PeriodicSite: O (1.5335, 5.7341, 12.3947) [0.4225, 0.5775, 0.5528]\n",
       "PeriodicSite: O (0.0000, 8.3902, 12.3947) [0.4225, 0.8450, 0.5528]\n",
       "PeriodicSite: O (-1.5335, 5.7341, 12.3947) [0.1550, 0.5775, 0.5528]\n",
       "PeriodicSite: O (1.5335, 5.7341, 21.2353) [0.4225, 0.5775, 0.9472]\n",
       "PeriodicSite: O (-1.5335, 5.7341, 21.2353) [0.1550, 0.5775, 0.9472]\n",
       "PeriodicSite: O (0.0000, 8.3902, 21.2353) [0.4225, 0.8450, 0.9472]\n",
       "PeriodicSite: O (-4.3998, 9.1597, 10.0253) [0.0775, 0.9225, 0.4472]\n",
       "PeriodicSite: O (-1.3328, 9.1597, 10.0253) [0.3450, 0.9225, 0.4472]\n",
       "PeriodicSite: O (-2.8663, 6.5037, 10.0253) [0.0775, 0.6550, 0.4472]\n",
       "PeriodicSite: O (4.1992, 4.1951, 1.1847) [0.5775, 0.4225, 0.0528]\n",
       "PeriodicSite: O (5.7327, 1.5390, 1.1847) [0.5775, 0.1550, 0.0528]\n",
       "PeriodicSite: O (7.2661, 4.1951, 1.1847) [0.8450, 0.4225, 0.0528]\n",
       "PeriodicSite: O (10.1325, 0.7695, 12.3947) [0.9225, 0.0775, 0.5528]\n",
       "PeriodicSite: O (8.5990, 3.4256, 12.3947) [0.9225, 0.3450, 0.5528]\n",
       "PeriodicSite: O (7.0655, 0.7695, 12.3947) [0.6550, 0.0775, 0.5528]\n",
       "PeriodicSite: O (10.1325, 0.7695, 21.2353) [0.9225, 0.0775, 0.9472]\n",
       "PeriodicSite: O (7.0655, 0.7695, 21.2353) [0.6550, 0.0775, 0.9472]\n",
       "PeriodicSite: O (8.5990, 3.4256, 21.2353) [0.9225, 0.3450, 0.9472]\n",
       "PeriodicSite: O (4.1992, 4.1951, 10.0253) [0.5775, 0.4225, 0.4472]\n",
       "PeriodicSite: O (7.2661, 4.1951, 10.0253) [0.8450, 0.4225, 0.4472]\n",
       "PeriodicSite: O (5.7327, 1.5390, 10.0253) [0.5775, 0.1550, 0.4472]\n",
       "PeriodicSite: O (1.3328, 9.1597, 1.1847) [0.5775, 0.9225, 0.0528]\n",
       "PeriodicSite: O (2.8663, 6.5037, 1.1847) [0.5775, 0.6550, 0.0528]\n",
       "PeriodicSite: O (4.3998, 9.1597, 1.1847) [0.8450, 0.9225, 0.0528]\n",
       "PeriodicSite: O (7.2661, 5.7341, 12.3947) [0.9225, 0.5775, 0.5528]\n",
       "PeriodicSite: O (5.7327, 8.3902, 12.3947) [0.9225, 0.8450, 0.5528]\n",
       "PeriodicSite: O (4.1992, 5.7341, 12.3947) [0.6550, 0.5775, 0.5528]\n",
       "PeriodicSite: O (7.2661, 5.7341, 21.2353) [0.9225, 0.5775, 0.9472]\n",
       "PeriodicSite: O (4.1992, 5.7341, 21.2353) [0.6550, 0.5775, 0.9472]\n",
       "PeriodicSite: O (5.7327, 8.3902, 21.2353) [0.9225, 0.8450, 0.9472]\n",
       "PeriodicSite: O (1.3328, 9.1597, 10.0253) [0.5775, 0.9225, 0.4472]\n",
       "PeriodicSite: O (4.3998, 9.1597, 10.0253) [0.8450, 0.9225, 0.4472]\n",
       "PeriodicSite: O (2.8663, 6.5037, 10.0253) [0.5775, 0.6550, 0.4472]\n",
       "PeriodicSite: O (1.4631, 2.4650, 3.3670) [0.2517, 0.2483, 0.1502]\n",
       "PeriodicSite: O (2.8663, 0.0346, 3.3670) [0.2517, 0.0035, 0.1502]\n",
       "PeriodicSite: O (4.2696, 2.4650, 3.3670) [0.4965, 0.2483, 0.1502]\n",
       "PeriodicSite: O (1.4032, 2.4996, 14.5770) [0.2483, 0.2517, 0.6502]\n",
       "PeriodicSite: O (0.0000, 4.9301, 14.5770) [0.2483, 0.4965, 0.6502]\n",
       "PeriodicSite: O (-1.4032, 2.4996, 14.5770) [0.0035, 0.2517, 0.6502]\n",
       "PeriodicSite: O (1.4032, 2.4996, 19.0529) [0.2483, 0.2517, 0.8498]\n",
       "PeriodicSite: O (-1.4032, 2.4996, 19.0529) [0.0035, 0.2517, 0.8498]\n",
       "PeriodicSite: O (0.0000, 4.9301, 19.0529) [0.2483, 0.4965, 0.8498]\n",
       "PeriodicSite: O (1.4631, 2.4650, 7.8430) [0.2517, 0.2483, 0.3498]\n",
       "PeriodicSite: O (4.2696, 2.4650, 7.8430) [0.4965, 0.2483, 0.3498]\n",
       "PeriodicSite: O (2.8663, 0.0346, 7.8430) [0.2517, 0.0035, 0.3498]\n",
       "PeriodicSite: O (-1.4032, 7.4297, 3.3670) [0.2517, 0.7483, 0.1502]\n",
       "PeriodicSite: O (0.0000, 4.9992, 3.3670) [0.2517, 0.5035, 0.1502]\n",
       "PeriodicSite: O (1.4032, 7.4297, 3.3670) [0.4965, 0.7483, 0.1502]\n",
       "PeriodicSite: O (-1.4631, 7.4642, 14.5770) [0.2483, 0.7517, 0.6502]\n",
       "PeriodicSite: O (-2.8663, 9.8947, 14.5770) [0.2483, 0.9965, 0.6502]\n",
       "PeriodicSite: O (-4.2696, 7.4642, 14.5770) [0.0035, 0.7517, 0.6502]\n",
       "PeriodicSite: O (-1.4631, 7.4642, 19.0529) [0.2483, 0.7517, 0.8498]\n",
       "PeriodicSite: O (-4.2696, 7.4642, 19.0529) [0.0035, 0.7517, 0.8498]\n",
       "PeriodicSite: O (-2.8663, 9.8947, 19.0529) [0.2483, 0.9965, 0.8498]\n",
       "PeriodicSite: O (-1.4032, 7.4297, 7.8430) [0.2517, 0.7483, 0.3498]\n",
       "PeriodicSite: O (1.4032, 7.4297, 7.8430) [0.4965, 0.7483, 0.3498]\n",
       "PeriodicSite: O (0.0000, 4.9992, 7.8430) [0.2517, 0.5035, 0.3498]\n",
       "PeriodicSite: O (7.1957, 2.4650, 3.3670) [0.7517, 0.2483, 0.1502]\n",
       "PeriodicSite: O (8.5990, 0.0346, 3.3670) [0.7517, 0.0035, 0.1502]\n",
       "PeriodicSite: O (10.0022, 2.4650, 3.3670) [0.9965, 0.2483, 0.1502]\n",
       "PeriodicSite: O (7.1359, 2.4996, 14.5770) [0.7483, 0.2517, 0.6502]\n",
       "PeriodicSite: O (5.7327, 4.9301, 14.5770) [0.7483, 0.4965, 0.6502]\n",
       "PeriodicSite: O (4.3294, 2.4996, 14.5770) [0.5035, 0.2517, 0.6502]\n",
       "PeriodicSite: O (7.1359, 2.4996, 19.0529) [0.7483, 0.2517, 0.8498]\n",
       "PeriodicSite: O (4.3294, 2.4996, 19.0529) [0.5035, 0.2517, 0.8498]\n",
       "PeriodicSite: O (5.7327, 4.9301, 19.0529) [0.7483, 0.4965, 0.8498]\n",
       "PeriodicSite: O (7.1957, 2.4650, 7.8430) [0.7517, 0.2483, 0.3498]\n",
       "PeriodicSite: O (10.0022, 2.4650, 7.8430) [0.9965, 0.2483, 0.3498]\n",
       "PeriodicSite: O (8.5990, 0.0346, 7.8430) [0.7517, 0.0035, 0.3498]\n",
       "PeriodicSite: O (4.3294, 7.4297, 3.3670) [0.7517, 0.7483, 0.1502]\n",
       "PeriodicSite: O (5.7327, 4.9992, 3.3670) [0.7517, 0.5035, 0.1502]\n",
       "PeriodicSite: O (7.1359, 7.4297, 3.3670) [0.9965, 0.7483, 0.1502]\n",
       "PeriodicSite: O (4.2696, 7.4642, 14.5770) [0.7483, 0.7517, 0.6502]\n",
       "PeriodicSite: O (2.8663, 9.8947, 14.5770) [0.7483, 0.9965, 0.6502]\n",
       "PeriodicSite: O (1.4631, 7.4642, 14.5770) [0.5035, 0.7517, 0.6502]\n",
       "PeriodicSite: O (4.2696, 7.4642, 19.0529) [0.7483, 0.7517, 0.8498]\n",
       "PeriodicSite: O (1.4631, 7.4642, 19.0529) [0.5035, 0.7517, 0.8498]\n",
       "PeriodicSite: O (2.8663, 9.8947, 19.0529) [0.7483, 0.9965, 0.8498]\n",
       "PeriodicSite: O (4.3294, 7.4297, 7.8430) [0.7517, 0.7483, 0.3498]\n",
       "PeriodicSite: O (7.1359, 7.4297, 7.8430) [0.9965, 0.7483, 0.3498]\n",
       "PeriodicSite: O (5.7327, 4.9992, 7.8430) [0.7517, 0.5035, 0.3498]\n",
       "PeriodicSite: Ti (2.8663, 1.6549, 18.1378) [0.3333, 0.1667, 0.8090]\n",
       "PeriodicSite: Ti (0.0001, 3.3097, 6.9278) [0.1667, 0.3333, 0.3090]\n",
       "PeriodicSite: Ti (0.0001, 3.3097, 4.2822) [0.1667, 0.3333, 0.1910]\n",
       "PeriodicSite: Ti (2.8663, 1.6549, 15.4922) [0.3333, 0.1667, 0.6910]\n",
       "PeriodicSite: Ti (-0.0001, 6.6195, 18.1378) [0.3333, 0.6667, 0.8090]\n",
       "PeriodicSite: Ti (-2.8663, 8.2743, 6.9278) [0.1667, 0.8333, 0.3090]\n",
       "PeriodicSite: Ti (-2.8663, 8.2743, 4.2822) [0.1667, 0.8333, 0.1910]\n",
       "PeriodicSite: Ti (-0.0001, 6.6195, 15.4922) [0.3333, 0.6667, 0.6910]\n",
       "PeriodicSite: Ti (8.5989, 1.6549, 18.1378) [0.8333, 0.1667, 0.8090]\n",
       "PeriodicSite: Ti (5.7327, 3.3097, 6.9278) [0.6667, 0.3333, 0.3090]\n",
       "PeriodicSite: Ti (5.7327, 3.3097, 4.2822) [0.6667, 0.3333, 0.1910]\n",
       "PeriodicSite: Ti (8.5989, 1.6549, 15.4922) [0.8333, 0.1667, 0.6910]\n",
       "PeriodicSite: Ti (5.7326, 6.6195, 18.1378) [0.8333, 0.6667, 0.8090]\n",
       "PeriodicSite: Ti (2.8664, 8.2743, 6.9278) [0.6667, 0.8333, 0.3090]\n",
       "PeriodicSite: Ti (2.8664, 8.2743, 4.2822) [0.6667, 0.8333, 0.1910]\n",
       "PeriodicSite: Ti (5.7326, 6.6195, 15.4922) [0.8333, 0.6667, 0.6910]"
      ]
     },
     "execution_count": 26,
     "metadata": {},
     "output_type": "execute_result"
    }
   ],
   "source": [
    "cell"
   ]
  },
  {
   "cell_type": "code",
   "execution_count": 27,
   "metadata": {
    "scrolled": true
   },
   "outputs": [
    {
     "name": "stdout",
     "output_type": "stream",
     "text": [
      "[1.9421818669128743, 1.942182040947982, 1.9421821265597765, 1.94218220524488, 1.94218222978121]\n",
      "[1.9421818669128732, 1.9421818905174113, 1.9421820793506541, 1.9421821265597754, 1.942182205244879]\n",
      "[1.9421818363719143, 1.942181874781089, 1.9421820252116604, 1.9421820321447612, 1.9421820793507096]\n",
      "[1.942181685941328, 1.9421818747810882, 1.9421818747810884, 1.94218203214476, 1.942182032144762]\n",
      "[[1.55374545 1.55374554 1.55374562 1.55374568 1.55374571]]\n"
     ]
    }
   ],
   "source": [
    "#average bond distance of the AL2 site via the average of distance from the nearest neighbors\n",
    "coordination=5 #coordination of Al2\n",
    "average=np.zeros([1,coordination])\n",
    "for u in range (4,4+4):#Al2 in the list\n",
    "    atomind=u\n",
    "    x=[]\n",
    "    y=cell.get_neighbors(cell.sites[atomind],5)\n",
    "    for i in range (0,len(y)):\n",
    "        x.append(cell.sites[atomind].distance(y[i]))\n",
    "    x.sort()\n",
    "    print(x[0:coordination])\n",
    "    x=np.array(x)                \n",
    "    average += x[0:coordination]\n",
    "average=average/5\n",
    "print(average)"
   ]
  },
  {
   "cell_type": "code",
   "execution_count": null,
   "metadata": {},
   "outputs": [],
   "source": []
  },
  {
   "cell_type": "markdown",
   "metadata": {},
   "source": [
    "## 4) Read vasprun.xml and extract the band structure<a class=\"anchor\" id=\"fourth-bullet\"></a>\n",
    "\n",
    "#### This part is actually not running online because of the size of the vasprun.xml files that could not get loaded on github"
   ]
  },
  {
   "cell_type": "code",
   "execution_count": null,
   "metadata": {},
   "outputs": [],
   "source": [
    "import pymatgen as mg\n",
    "from pymatgen.io.vasp.outputs import BSVasprun, Vasprun\n",
    "from pymatgen.electronic_structure.core import Spin\n",
    "from pymatgen.electronic_structure.plotter import BSPlotter, BSDOSPlotter, DosPlotter"
   ]
  },
  {
   "cell_type": "code",
   "execution_count": null,
   "metadata": {},
   "outputs": [],
   "source": [
    "run = BSVasprun(\"vasprun.xml\", parse_projected_eigen=True)"
   ]
  },
  {
   "cell_type": "code",
   "execution_count": null,
   "metadata": {},
   "outputs": [],
   "source": [
    "bs = run.get_band_structure(\"KPOINTS\")"
   ]
  },
  {
   "cell_type": "code",
   "execution_count": null,
   "metadata": {},
   "outputs": [],
   "source": [
    "bs = run.get_band_structure(\"KPOINTS\")"
   ]
  },
  {
   "cell_type": "code",
   "execution_count": null,
   "metadata": {},
   "outputs": [],
   "source": [
    "print(\"number of bands\", bs.nb_bands)"
   ]
  },
  {
   "cell_type": "code",
   "execution_count": null,
   "metadata": {},
   "outputs": [],
   "source": [
    "print(\"number of kpoints\", len(bs.kpoints))"
   ]
  },
  {
   "cell_type": "code",
   "execution_count": null,
   "metadata": {},
   "outputs": [],
   "source": [
    "bs.is_metal()"
   ]
  },
  {
   "cell_type": "code",
   "execution_count": null,
   "metadata": {},
   "outputs": [],
   "source": [
    "bs.is_spin_polarized"
   ]
  },
  {
   "cell_type": "markdown",
   "metadata": {},
   "source": [
    "### 4.1) Extract a given band or eigenvalues"
   ]
  },
  {
   "cell_type": "code",
   "execution_count": null,
   "metadata": {},
   "outputs": [],
   "source": [
    "bs.bands"
   ]
  },
  {
   "cell_type": "code",
   "execution_count": null,
   "metadata": {},
   "outputs": [],
   "source": [
    "bs.bands[Spin.up].shape"
   ]
  },
  {
   "cell_type": "code",
   "execution_count": null,
   "metadata": {},
   "outputs": [],
   "source": [
    "bs.bands[Spin.down][9, :]"
   ]
  },
  {
   "cell_type": "code",
   "execution_count": null,
   "metadata": {},
   "outputs": [],
   "source": [
    "n = 0\n",
    "for kpoints, e in zip(bs.kpoints, bs.bands[Spin.down][9, :]):\n",
    "    n += 1\n",
    "    if n == 11:\n",
    "        print(\"...\")\n",
    "    if 10 < n < 190:\n",
    "        continue\n",
    "\n",
    "    print(\"kx = %5.3f  ky = %5.3f  kz = %5.3f   eps(k) = %8.4f\" % (tuple(kpoints.frac_coords) +  (e,)))"
   ]
  },
  {
   "cell_type": "code",
   "execution_count": null,
   "metadata": {},
   "outputs": [],
   "source": [
    "bsplot = BSPlotter(bs)"
   ]
  },
  {
   "cell_type": "code",
   "execution_count": null,
   "metadata": {},
   "outputs": [],
   "source": [
    "bsplot = BSPlotter(bs)"
   ]
  },
  {
   "cell_type": "code",
   "execution_count": null,
   "metadata": {},
   "outputs": [],
   "source": [
    "# get the plot\n",
    "bsplot.get_plot(ylim=(-20, 10), zero_to_efermi=True)\n",
    "print(bs.efermi)\n",
    "\n",
    "# add some features\n",
    "ax = plt.gca()\n",
    "ax.set_title(\"NiO Band Structure\", fontsize=20)\n",
    "xlim = ax.get_xlim()\n",
    "ax.hlines(0, xlim[0], xlim[1], linestyles=\"dashed\", color=\"black\")\n",
    "\n",
    "# add legend\n",
    "ax.plot((), (), \"b-\", label=\"spin up\")\n",
    "ax.plot((), (), \"r--\", label=\"spin down\")\n",
    "ax.legend(fontsize=16, loc=\"upper left\")"
   ]
  },
  {
   "cell_type": "markdown",
   "metadata": {},
   "source": [
    "### 4.2) Extract data from the plot"
   ]
  },
  {
   "cell_type": "code",
   "execution_count": null,
   "metadata": {},
   "outputs": [],
   "source": [
    "data = bsplot.bs_plot_data()"
   ]
  },
  {
   "cell_type": "code",
   "execution_count": null,
   "metadata": {},
   "outputs": [],
   "source": [
    "data.keys()"
   ]
  },
  {
   "cell_type": "code",
   "execution_count": null,
   "metadata": {},
   "outputs": [],
   "source": [
    "ibands = 9  # band number from 0 --> number of bands\n",
    "spin = str(Spin.up)\n",
    "\n",
    "for xpath, epath in zip(data[\"distances\"], data[\"energy\"]):\n",
    "    print(20 * \"-\")\n",
    "    for x, bands in zip(xpath, epath[spin][ibands]):\n",
    "        print(\"%8.4f %8.4f\" % (x, bands))"
   ]
  },
  {
   "cell_type": "code",
   "execution_count": null,
   "metadata": {},
   "outputs": [],
   "source": [
    "ibands = 9  # band number from 0 --> number of bands\n",
    "spin = str(Spin.up)\n",
    "\n",
    "for xpath, epath in zip(data[\"distances\"], data[\"energy\"]):\n",
    "    plt.plot(xpath, epath[spin][ibands])"
   ]
  },
  {
   "cell_type": "code",
   "execution_count": null,
   "metadata": {},
   "outputs": [],
   "source": [
    "ibands = 1  # band number from 0 --> number of bands\n",
    "spin = str(Spin.up)\n",
    "\n",
    "x = list()\n",
    "y = list()\n",
    "for xpath, epath in zip(data[\"distances\"], data[\"energy\"]):\n",
    "    x += xpath\n",
    "    y += epath[spin][ibands]\n",
    "\n",
    "plt.plot(x, y)"
   ]
  },
  {
   "cell_type": "markdown",
   "metadata": {},
   "source": [
    "### 4.3) Plot DOS"
   ]
  },
  {
   "cell_type": "code",
   "execution_count": null,
   "metadata": {},
   "outputs": [],
   "source": [
    "dosrun = Vasprun(\"vasprun.xml\", parse_dos=True)\n",
    "dos = dosrun.complete_dos\n",
    "print(dosrun.efermi)\n",
    "print(dos.efermi)"
   ]
  },
  {
   "cell_type": "code",
   "execution_count": null,
   "metadata": {},
   "outputs": [],
   "source": [
    "dosplot = DosPlotter(sigma=0.1)\n",
    "dosplot.add_dos(\"Total DOS\", dos)\n",
    "dosplot.add_dos_dict(dos.get_element_dos())\n",
    "plt = dosplot.get_plot()\n",
    "plt.grid()"
   ]
  },
  {
   "cell_type": "code",
   "execution_count": null,
   "metadata": {},
   "outputs": [],
   "source": [
    "# 5) Plot Bands and DOS"
   ]
  },
  {
   "cell_type": "code",
   "execution_count": null,
   "metadata": {},
   "outputs": [],
   "source": [
    "bs = run.get_band_structure(\"KPOINTS\", efermi=dos.efermi)"
   ]
  },
  {
   "cell_type": "code",
   "execution_count": null,
   "metadata": {},
   "outputs": [],
   "source": [
    "bsdosplot = BSDOSPlotter(\n",
    "    bs_projection=\"elements\", \n",
    "    dos_projection=\"elements\", \n",
    "    vb_energy_range=22,\n",
    "    egrid_interval=2.5\n",
    ")\n",
    "plt = bsdosplot.get_plot(bs, dos=dos)"
   ]
  },
  {
   "cell_type": "code",
   "execution_count": null,
   "metadata": {},
   "outputs": [],
   "source": [
    "bsdosplot = BSDOSPlotter(\n",
    "    bs_projection=\"elements\", \n",
    "    dos_projection=\"elements\", \n",
    "    vb_energy_range=11,\n",
    "    cb_energy_range=10,\n",
    "    egrid_interval=2\n",
    ")\n",
    "plt = bsdosplot.get_plot(bs, dos=dos)"
   ]
  }
 ],
 "metadata": {
  "anaconda-cloud": {},
  "kernelspec": {
   "display_name": "Python 3",
   "language": "python",
   "name": "python3"
  },
  "language_info": {
   "codemirror_mode": {
    "name": "ipython",
    "version": 3
   },
   "file_extension": ".py",
   "mimetype": "text/x-python",
   "name": "python",
   "nbconvert_exporter": "python",
   "pygments_lexer": "ipython3",
   "version": "3.8.8"
  }
 },
 "nbformat": 4,
 "nbformat_minor": 1
}
