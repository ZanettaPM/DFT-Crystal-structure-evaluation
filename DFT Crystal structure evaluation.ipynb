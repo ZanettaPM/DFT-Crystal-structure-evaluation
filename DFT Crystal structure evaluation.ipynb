{
 "cells": [
  {
   "cell_type": "code",
   "execution_count": 1,
   "metadata": {},
   "outputs": [],
   "source": [
    "%matplotlib qt\n",
    "import numpy as np\n",
    "import matplotlib.pyplot as plt"
   ]
  },
  {
   "cell_type": "markdown",
   "metadata": {},
   "source": [
    "# Symmetry estimation"
   ]
  },
  {
   "cell_type": "markdown",
   "metadata": {},
   "source": [
    "# Distance determination between central atoms and bonded O"
   ]
  },
  {
   "cell_type": "code",
   "execution_count": null,
   "metadata": {},
   "outputs": [],
   "source": [
    "from pymatgen.core import Lattice, Structure\n",
    "from pymatgen.analysis import local_env"
   ]
  },
  {
   "cell_type": "code",
   "execution_count": 3,
   "metadata": {},
   "outputs": [],
   "source": [
    "import glob"
   ]
  },
  {
   "cell_type": "code",
   "execution_count": 4,
   "metadata": {},
   "outputs": [],
   "source": [
    "targetPattern = r\"Contcar\"\n",
    "cell=Structure.from_file(glob.glob(targetPattern)[0])"
   ]
  },
  {
   "cell_type": "code",
   "execution_count": 5,
   "metadata": {},
   "outputs": [
    {
     "data": {
      "text/plain": [
       "Structure Summary\n",
       "Lattice\n",
       "    abc : 5.561445366154675 5.561445366191078 21.85596206236097\n",
       " angles : 90.0 90.0 119.99999999978348\n",
       " volume : 585.4312623384384\n",
       "      A : 5.561445366154675 0.0 0.0\n",
       "      B : -2.7807226830773377 4.816352968891232 0.0\n",
       "      C : 0.0 0.0 21.85596206236097\n",
       "PeriodicSite: Al (0.0000, 0.0000, 0.0000) [0.0000, 0.0000, 0.0000]\n",
       "PeriodicSite: Al (0.0000, 0.0000, 10.9280) [0.0000, 0.0000, 0.5000]\n",
       "PeriodicSite: Al (0.0000, 0.0000, 5.4640) [0.0000, 0.0000, 0.2500]\n",
       "PeriodicSite: Al (0.0000, 0.0000, 16.3920) [0.0000, 0.0000, 0.7500]\n",
       "PeriodicSite: Al (0.0000, 3.2109, 0.6192) [0.3333, 0.6667, 0.0283]\n",
       "PeriodicSite: Al (2.7807, 1.6055, 21.2368) [0.6667, 0.3333, 0.9717]\n",
       "PeriodicSite: Al (2.7807, 1.6055, 11.5472) [0.6667, 0.3333, 0.5283]\n",
       "PeriodicSite: Al (0.0000, 3.2109, 10.3088) [0.3333, 0.6667, 0.4717]\n",
       "PeriodicSite: Al (0.0000, 3.2109, 4.1812) [0.3333, 0.6667, 0.1913]\n",
       "PeriodicSite: Al (2.7807, 1.6055, 17.6748) [0.6667, 0.3333, 0.8087]\n",
       "PeriodicSite: Al (2.7807, 1.6055, 15.1092) [0.6667, 0.3333, 0.6913]\n",
       "PeriodicSite: Al (0.0000, 3.2109, 6.7468) [0.3333, 0.6667, 0.3087]\n",
       "PeriodicSite: Al (-1.3774, 4.0061, 19.4583) [0.1682, 0.8318, 0.8903]\n",
       "PeriodicSite: Al (4.1581, 0.8102, 2.3977) [0.8318, 0.1682, 0.1097]\n",
       "PeriodicSite: Al (0.0000, 1.6204, 19.4583) [0.1682, 0.3364, 0.8903]\n",
       "PeriodicSite: Al (2.7807, 3.1959, 2.3977) [0.8318, 0.6636, 0.1097]\n",
       "PeriodicSite: Al (1.3774, 4.0061, 19.4583) [0.6636, 0.8318, 0.8903]\n",
       "PeriodicSite: Al (1.4033, 0.8102, 2.3977) [0.3364, 0.1682, 0.1097]\n",
       "PeriodicSite: Al (4.1581, 0.8102, 8.5303) [0.8318, 0.1682, 0.3903]\n",
       "PeriodicSite: Al (-1.3774, 4.0061, 13.3256) [0.1682, 0.8318, 0.6097]\n",
       "PeriodicSite: Al (2.7807, 3.1959, 8.5303) [0.8318, 0.6636, 0.3903]\n",
       "PeriodicSite: Al (0.0000, 1.6204, 13.3256) [0.1682, 0.3364, 0.6097]\n",
       "PeriodicSite: Al (1.4033, 0.8102, 8.5303) [0.3364, 0.1682, 0.3903]\n",
       "PeriodicSite: Al (1.3774, 4.0061, 13.3256) [0.6636, 0.8318, 0.6097]\n",
       "PeriodicSite: Ca (2.7807, 1.6055, 5.4640) [0.6667, 0.3333, 0.2500]\n",
       "PeriodicSite: Ca (0.0000, 3.2109, 16.3920) [0.3333, 0.6667, 0.7500]\n",
       "PeriodicSite: O (0.0000, 0.0000, 3.2972) [0.0000, 0.0000, 0.1509]\n",
       "PeriodicSite: O (0.0000, 0.0000, 18.5587) [0.0000, 0.0000, 0.8491]\n",
       "PeriodicSite: O (0.0000, 0.0000, 14.2252) [0.0000, 0.0000, 0.6509]\n",
       "PeriodicSite: O (0.0000, 0.0000, 7.6308) [0.0000, 0.0000, 0.3491]\n",
       "PeriodicSite: O (0.0000, 3.2109, 20.6642) [0.3333, 0.6667, 0.9455]\n",
       "PeriodicSite: O (2.7807, 1.6055, 1.1918) [0.6667, 0.3333, 0.0545]\n",
       "PeriodicSite: O (2.7807, 1.6055, 9.7362) [0.6667, 0.3333, 0.4455]\n",
       "PeriodicSite: O (0.0000, 3.2109, 12.1197) [0.3333, 0.6667, 0.5545]\n",
       "PeriodicSite: O (-1.2655, 3.9416, 5.4640) [0.1816, 0.8184, 0.2500]\n",
       "PeriodicSite: O (4.0463, 0.8748, 16.3920) [0.8184, 0.1816, 0.7500]\n",
       "PeriodicSite: O (0.0000, 1.7496, 5.4640) [0.1816, 0.3633, 0.2500]\n",
       "PeriodicSite: O (2.7807, 3.0668, 16.3920) [0.8184, 0.6367, 0.7500]\n",
       "PeriodicSite: O (1.2655, 3.9416, 5.4640) [0.6367, 0.8184, 0.2500]\n",
       "PeriodicSite: O (1.5152, 0.8748, 16.3920) [0.3633, 0.1816, 0.7500]\n",
       "PeriodicSite: O (-1.4870, 4.0694, 1.1469) [0.1551, 0.8449, 0.0525]\n",
       "PeriodicSite: O (4.2677, 0.7469, 20.7090) [0.8449, 0.1551, 0.9475]\n",
       "PeriodicSite: O (-0.0000, 1.4939, 1.1469) [0.1551, 0.3102, 0.0525]\n",
       "PeriodicSite: O (2.7807, 3.3225, 20.7090) [0.8449, 0.6898, 0.9475]\n",
       "PeriodicSite: O (1.4870, 4.0694, 1.1469) [0.6898, 0.8449, 0.0525]\n",
       "PeriodicSite: O (1.2938, 0.7469, 20.7090) [0.3102, 0.1551, 0.9475]\n",
       "PeriodicSite: O (4.2677, 0.7469, 12.0749) [0.8449, 0.1551, 0.5525]\n",
       "PeriodicSite: O (-1.4870, 4.0694, 9.7811) [0.1551, 0.8449, 0.4475]\n",
       "PeriodicSite: O (2.7807, 3.3225, 12.0749) [0.8449, 0.6898, 0.5525]\n",
       "PeriodicSite: O (-0.0000, 1.4939, 9.7811) [0.1551, 0.3102, 0.4475]\n",
       "PeriodicSite: O (1.2938, 0.7469, 12.0749) [0.3102, 0.1551, 0.5525]\n",
       "PeriodicSite: O (1.4870, 4.0694, 9.7811) [0.6898, 0.8449, 0.4475]\n",
       "PeriodicSite: O (1.4187, 2.3918, 3.2743) [0.5034, 0.4966, 0.1498]\n",
       "PeriodicSite: O (1.3620, 2.4245, 18.5816) [0.4966, 0.5034, 0.8502]\n",
       "PeriodicSite: O (2.7807, 0.0327, 3.2743) [0.5034, 0.0068, 0.1498]\n",
       "PeriodicSite: O (0.0000, 4.7837, 18.5816) [0.4966, 0.9932, 0.8502]\n",
       "PeriodicSite: O (4.1428, 2.3918, 3.2743) [0.9932, 0.4966, 0.1498]\n",
       "PeriodicSite: O (-1.3620, 2.4245, 18.5816) [0.0068, 0.5034, 0.8502]\n",
       "PeriodicSite: O (1.3620, 2.4245, 14.2023) [0.4966, 0.5034, 0.6498]\n",
       "PeriodicSite: O (1.4187, 2.3918, 7.6537) [0.5034, 0.4966, 0.3502]\n",
       "PeriodicSite: O (0.0000, 4.7837, 14.2023) [0.4966, 0.9932, 0.6498]\n",
       "PeriodicSite: O (2.7807, 0.0327, 7.6537) [0.5034, 0.0068, 0.3502]\n",
       "PeriodicSite: O (-1.3620, 2.4245, 14.2023) [0.0068, 0.5034, 0.6498]\n",
       "PeriodicSite: O (4.1428, 2.3918, 7.6537) [0.9932, 0.4966, 0.3502]"
      ]
     },
     "execution_count": 5,
     "metadata": {},
     "output_type": "execute_result"
    }
   ],
   "source": [
    "cell"
   ]
  },
  {
   "cell_type": "code",
   "execution_count": 6,
   "metadata": {},
   "outputs": [
    {
     "name": "stdout",
     "output_type": "stream",
     "text": [
      "[2.6959639924360204, 2.6959639924360204, 2.6959639924360204, 2.695964261068021, 2.695964261068021, 2.695964261068021, 2.695964349333276, 2.695964349333276, 2.695964349333276, 2.6959643760149694, 2.6959643760149694, 2.6959643760149694]\n",
      "[2.695964196239472, 2.695964196239472, 2.695964196239472, 2.6959642556391694, 2.6959642556391694, 2.6959642556391694, 2.695964368850471, 2.695964368850471, 2.695964368850471, 2.695964962594759, 2.695964962594759, 2.695964962594759]\n",
      "[[2.69596409 2.69596409 2.69596409 2.69596426 2.69596426 2.69596426\n",
      "  2.69596436 2.69596436 2.69596436 2.69596467 2.69596467 2.69596467]]\n"
     ]
    }
   ],
   "source": [
    "coordination=12\n",
    "average=np.zeros([1,coordination])\n",
    "for u in range (2+2+4+4+12,2+2+4+4+12+2):\n",
    "    atomind=u\n",
    "    x=[]\n",
    "    y=cell.get_neighbors(cell.sites[atomind],5)\n",
    "    for i in range (0,len(y)):\n",
    "        x.append(cell.sites[atomind].distance(y[i]))\n",
    "    x.sort()\n",
    "    print(x[0:coordination])\n",
    "    x=np.array(x)                \n",
    "    average += x[0:coordination]\n",
    "average=average/2\n",
    "print(average)"
   ]
  },
  {
   "cell_type": "markdown",
   "metadata": {},
   "source": [
    "## Force evaluation on M2 site"
   ]
  },
  {
   "cell_type": "code",
   "execution_count": 12,
   "metadata": {},
   "outputs": [
    {
     "ename": "NameError",
     "evalue": "name 'zdisp' is not defined",
     "output_type": "error",
     "traceback": [
      "\u001b[1;31m---------------------------------------------------------------------------\u001b[0m",
      "\u001b[1;31mNameError\u001b[0m                                 Traceback (most recent call last)",
      "\u001b[1;32m<ipython-input-12-9e8b20a58d8e>\u001b[0m in \u001b[0;36m<module>\u001b[1;34m\u001b[0m\n\u001b[0;32m      6\u001b[0m \u001b[1;32mfor\u001b[0m \u001b[0mi\u001b[0m \u001b[1;32min\u001b[0m \u001b[0mrange\u001b[0m \u001b[1;33m(\u001b[0m\u001b[1;36m0\u001b[0m\u001b[1;33m,\u001b[0m\u001b[0mlen\u001b[0m\u001b[1;33m(\u001b[0m\u001b[0mx\u001b[0m\u001b[1;33m)\u001b[0m\u001b[1;33m)\u001b[0m\u001b[1;33m:\u001b[0m\u001b[1;33m\u001b[0m\u001b[1;33m\u001b[0m\u001b[0m\n\u001b[0;32m      7\u001b[0m     \u001b[0mstep\u001b[0m\u001b[1;33m.\u001b[0m\u001b[0mappend\u001b[0m\u001b[1;33m(\u001b[0m\u001b[0mi\u001b[0m\u001b[1;33m)\u001b[0m\u001b[1;33m\u001b[0m\u001b[1;33m\u001b[0m\u001b[0m\n\u001b[1;32m----> 8\u001b[1;33m     \u001b[0mp1\u001b[0m\u001b[1;33m.\u001b[0m\u001b[0mappend\u001b[0m\u001b[1;33m(\u001b[0m\u001b[0mzdisp\u001b[0m\u001b[1;33m-\u001b[0m\u001b[1;33m(\u001b[0m\u001b[0mx\u001b[0m\u001b[1;33m[\u001b[0m\u001b[0mi\u001b[0m\u001b[1;33m]\u001b[0m\u001b[1;33m[\u001b[0m\u001b[1;36m2\u001b[0m\u001b[1;33m:\u001b[0m\u001b[1;36m4\u001b[0m\u001b[1;33m]\u001b[0m\u001b[1;33m[\u001b[0m\u001b[1;36m0\u001b[0m\u001b[1;33m]\u001b[0m\u001b[1;33m[\u001b[0m\u001b[1;36m2\u001b[0m\u001b[1;33m]\u001b[0m\u001b[1;33m)\u001b[0m\u001b[1;33m)\u001b[0m\u001b[1;33m\u001b[0m\u001b[1;33m\u001b[0m\u001b[0m\n\u001b[0m\u001b[0;32m      9\u001b[0m     \u001b[0mp2\u001b[0m\u001b[1;33m.\u001b[0m\u001b[0mappend\u001b[0m\u001b[1;33m(\u001b[0m\u001b[0mzdisp2\u001b[0m\u001b[1;33m-\u001b[0m\u001b[1;33m(\u001b[0m\u001b[0mx\u001b[0m\u001b[1;33m[\u001b[0m\u001b[0mi\u001b[0m\u001b[1;33m]\u001b[0m\u001b[1;33m[\u001b[0m\u001b[1;36m2\u001b[0m\u001b[1;33m:\u001b[0m\u001b[1;36m4\u001b[0m\u001b[1;33m]\u001b[0m\u001b[1;33m[\u001b[0m\u001b[1;36m1\u001b[0m\u001b[1;33m]\u001b[0m\u001b[1;33m[\u001b[0m\u001b[1;36m2\u001b[0m\u001b[1;33m]\u001b[0m\u001b[1;33m)\u001b[0m\u001b[1;33m)\u001b[0m\u001b[1;33m\u001b[0m\u001b[1;33m\u001b[0m\u001b[0m\n\u001b[0;32m     10\u001b[0m     \u001b[0mf1\u001b[0m\u001b[1;33m.\u001b[0m\u001b[0mappend\u001b[0m\u001b[1;33m(\u001b[0m\u001b[1;33m(\u001b[0m\u001b[0my\u001b[0m\u001b[1;33m[\u001b[0m\u001b[0mi\u001b[0m\u001b[1;33m]\u001b[0m\u001b[1;33m[\u001b[0m\u001b[1;36m2\u001b[0m\u001b[1;33m:\u001b[0m\u001b[1;36m4\u001b[0m\u001b[1;33m]\u001b[0m\u001b[1;33m[\u001b[0m\u001b[1;36m0\u001b[0m\u001b[1;33m]\u001b[0m\u001b[1;33m[\u001b[0m\u001b[1;36m2\u001b[0m\u001b[1;33m]\u001b[0m\u001b[1;33m)\u001b[0m\u001b[1;33m)\u001b[0m\u001b[1;33m\u001b[0m\u001b[1;33m\u001b[0m\u001b[0m\n",
      "\u001b[1;31mNameError\u001b[0m: name 'zdisp' is not defined"
     ]
    }
   ],
   "source": [
    "p1=[]\n",
    "p2=[]\n",
    "f1=[]\n",
    "f2=[]\n",
    "step=[]\n",
    "for i in range (0,len(x)):\n",
    "    step.append(i)\n",
    "    p1.append(zdisp-(x[i][2:4][0][2]))\n",
    "    p2.append(zdisp2-(x[i][2:4][1][2]))\n",
    "    f1.append((y[i][2:4][0][2]))\n",
    "    f2.append((y[i][2:4][1][2]))"
   ]
  },
  {
   "cell_type": "code",
   "execution_count": 13,
   "metadata": {},
   "outputs": [
    {
     "ename": "ValueError",
     "evalue": "x and y must have same first dimension, but have shapes (1,) and (0,)",
     "output_type": "error",
     "traceback": [
      "\u001b[1;31m---------------------------------------------------------------------------\u001b[0m",
      "\u001b[1;31mValueError\u001b[0m                                Traceback (most recent call last)",
      "\u001b[1;32m<ipython-input-13-a5f217e1f447>\u001b[0m in \u001b[0;36m<module>\u001b[1;34m\u001b[0m\n\u001b[0;32m      1\u001b[0m \u001b[0mfig\u001b[0m\u001b[1;33m=\u001b[0m\u001b[0mplt\u001b[0m\u001b[1;33m.\u001b[0m\u001b[0mfigure\u001b[0m\u001b[1;33m(\u001b[0m\u001b[1;33m)\u001b[0m\u001b[1;33m\u001b[0m\u001b[1;33m\u001b[0m\u001b[0m\n\u001b[0;32m      2\u001b[0m \u001b[0max1\u001b[0m\u001b[1;33m=\u001b[0m\u001b[0mplt\u001b[0m\u001b[1;33m.\u001b[0m\u001b[0msubplot\u001b[0m\u001b[1;33m(\u001b[0m\u001b[1;36m321\u001b[0m\u001b[1;33m)\u001b[0m\u001b[1;33m\u001b[0m\u001b[1;33m\u001b[0m\u001b[0m\n\u001b[1;32m----> 3\u001b[1;33m \u001b[0mplt\u001b[0m\u001b[1;33m.\u001b[0m\u001b[0mplot\u001b[0m\u001b[1;33m(\u001b[0m\u001b[0mstep\u001b[0m\u001b[1;33m,\u001b[0m\u001b[0mf1\u001b[0m\u001b[1;33m,\u001b[0m\u001b[1;34m'-'\u001b[0m\u001b[1;33m)\u001b[0m\u001b[1;33m\u001b[0m\u001b[1;33m\u001b[0m\u001b[0m\n\u001b[0m\u001b[0;32m      4\u001b[0m \u001b[0mplt\u001b[0m\u001b[1;33m.\u001b[0m\u001b[0mtext\u001b[0m\u001b[1;33m(\u001b[0m\u001b[1;36m0.45\u001b[0m\u001b[1;33m,\u001b[0m \u001b[1;36m1.3\u001b[0m\u001b[1;33m,\u001b[0m \u001b[1;34m\"position 1\"\u001b[0m\u001b[1;33m,\u001b[0m \u001b[0mfontweight\u001b[0m\u001b[1;33m=\u001b[0m\u001b[1;34m\"bold\"\u001b[0m\u001b[1;33m,\u001b[0m \u001b[0mtransform\u001b[0m\u001b[1;33m=\u001b[0m\u001b[0max1\u001b[0m\u001b[1;33m.\u001b[0m\u001b[0mtransAxes\u001b[0m\u001b[1;33m)\u001b[0m\u001b[1;33m\u001b[0m\u001b[1;33m\u001b[0m\u001b[0m\n\u001b[0;32m      5\u001b[0m \u001b[0mplt\u001b[0m\u001b[1;33m.\u001b[0m\u001b[0mtitle\u001b[0m\u001b[1;33m(\u001b[0m\u001b[1;34m'force vs step'\u001b[0m\u001b[1;33m)\u001b[0m\u001b[1;33m\u001b[0m\u001b[1;33m\u001b[0m\u001b[0m\n",
      "\u001b[1;32m~\\anaconda3\\lib\\site-packages\\matplotlib\\pyplot.py\u001b[0m in \u001b[0;36mplot\u001b[1;34m(scalex, scaley, data, *args, **kwargs)\u001b[0m\n\u001b[0;32m   2838\u001b[0m \u001b[1;33m@\u001b[0m\u001b[0m_copy_docstring_and_deprecators\u001b[0m\u001b[1;33m(\u001b[0m\u001b[0mAxes\u001b[0m\u001b[1;33m.\u001b[0m\u001b[0mplot\u001b[0m\u001b[1;33m)\u001b[0m\u001b[1;33m\u001b[0m\u001b[1;33m\u001b[0m\u001b[0m\n\u001b[0;32m   2839\u001b[0m \u001b[1;32mdef\u001b[0m \u001b[0mplot\u001b[0m\u001b[1;33m(\u001b[0m\u001b[1;33m*\u001b[0m\u001b[0margs\u001b[0m\u001b[1;33m,\u001b[0m \u001b[0mscalex\u001b[0m\u001b[1;33m=\u001b[0m\u001b[1;32mTrue\u001b[0m\u001b[1;33m,\u001b[0m \u001b[0mscaley\u001b[0m\u001b[1;33m=\u001b[0m\u001b[1;32mTrue\u001b[0m\u001b[1;33m,\u001b[0m \u001b[0mdata\u001b[0m\u001b[1;33m=\u001b[0m\u001b[1;32mNone\u001b[0m\u001b[1;33m,\u001b[0m \u001b[1;33m**\u001b[0m\u001b[0mkwargs\u001b[0m\u001b[1;33m)\u001b[0m\u001b[1;33m:\u001b[0m\u001b[1;33m\u001b[0m\u001b[1;33m\u001b[0m\u001b[0m\n\u001b[1;32m-> 2840\u001b[1;33m     return gca().plot(\n\u001b[0m\u001b[0;32m   2841\u001b[0m         \u001b[1;33m*\u001b[0m\u001b[0margs\u001b[0m\u001b[1;33m,\u001b[0m \u001b[0mscalex\u001b[0m\u001b[1;33m=\u001b[0m\u001b[0mscalex\u001b[0m\u001b[1;33m,\u001b[0m \u001b[0mscaley\u001b[0m\u001b[1;33m=\u001b[0m\u001b[0mscaley\u001b[0m\u001b[1;33m,\u001b[0m\u001b[1;33m\u001b[0m\u001b[1;33m\u001b[0m\u001b[0m\n\u001b[0;32m   2842\u001b[0m         **({\"data\": data} if data is not None else {}), **kwargs)\n",
      "\u001b[1;32m~\\anaconda3\\lib\\site-packages\\matplotlib\\axes\\_axes.py\u001b[0m in \u001b[0;36mplot\u001b[1;34m(self, scalex, scaley, data, *args, **kwargs)\u001b[0m\n\u001b[0;32m   1741\u001b[0m         \"\"\"\n\u001b[0;32m   1742\u001b[0m         \u001b[0mkwargs\u001b[0m \u001b[1;33m=\u001b[0m \u001b[0mcbook\u001b[0m\u001b[1;33m.\u001b[0m\u001b[0mnormalize_kwargs\u001b[0m\u001b[1;33m(\u001b[0m\u001b[0mkwargs\u001b[0m\u001b[1;33m,\u001b[0m \u001b[0mmlines\u001b[0m\u001b[1;33m.\u001b[0m\u001b[0mLine2D\u001b[0m\u001b[1;33m)\u001b[0m\u001b[1;33m\u001b[0m\u001b[1;33m\u001b[0m\u001b[0m\n\u001b[1;32m-> 1743\u001b[1;33m         \u001b[0mlines\u001b[0m \u001b[1;33m=\u001b[0m \u001b[1;33m[\u001b[0m\u001b[1;33m*\u001b[0m\u001b[0mself\u001b[0m\u001b[1;33m.\u001b[0m\u001b[0m_get_lines\u001b[0m\u001b[1;33m(\u001b[0m\u001b[1;33m*\u001b[0m\u001b[0margs\u001b[0m\u001b[1;33m,\u001b[0m \u001b[0mdata\u001b[0m\u001b[1;33m=\u001b[0m\u001b[0mdata\u001b[0m\u001b[1;33m,\u001b[0m \u001b[1;33m**\u001b[0m\u001b[0mkwargs\u001b[0m\u001b[1;33m)\u001b[0m\u001b[1;33m]\u001b[0m\u001b[1;33m\u001b[0m\u001b[1;33m\u001b[0m\u001b[0m\n\u001b[0m\u001b[0;32m   1744\u001b[0m         \u001b[1;32mfor\u001b[0m \u001b[0mline\u001b[0m \u001b[1;32min\u001b[0m \u001b[0mlines\u001b[0m\u001b[1;33m:\u001b[0m\u001b[1;33m\u001b[0m\u001b[1;33m\u001b[0m\u001b[0m\n\u001b[0;32m   1745\u001b[0m             \u001b[0mself\u001b[0m\u001b[1;33m.\u001b[0m\u001b[0madd_line\u001b[0m\u001b[1;33m(\u001b[0m\u001b[0mline\u001b[0m\u001b[1;33m)\u001b[0m\u001b[1;33m\u001b[0m\u001b[1;33m\u001b[0m\u001b[0m\n",
      "\u001b[1;32m~\\anaconda3\\lib\\site-packages\\matplotlib\\axes\\_base.py\u001b[0m in \u001b[0;36m__call__\u001b[1;34m(self, data, *args, **kwargs)\u001b[0m\n\u001b[0;32m    271\u001b[0m                 \u001b[0mthis\u001b[0m \u001b[1;33m+=\u001b[0m \u001b[0margs\u001b[0m\u001b[1;33m[\u001b[0m\u001b[1;36m0\u001b[0m\u001b[1;33m]\u001b[0m\u001b[1;33m,\u001b[0m\u001b[1;33m\u001b[0m\u001b[1;33m\u001b[0m\u001b[0m\n\u001b[0;32m    272\u001b[0m                 \u001b[0margs\u001b[0m \u001b[1;33m=\u001b[0m \u001b[0margs\u001b[0m\u001b[1;33m[\u001b[0m\u001b[1;36m1\u001b[0m\u001b[1;33m:\u001b[0m\u001b[1;33m]\u001b[0m\u001b[1;33m\u001b[0m\u001b[1;33m\u001b[0m\u001b[0m\n\u001b[1;32m--> 273\u001b[1;33m             \u001b[1;32myield\u001b[0m \u001b[1;32mfrom\u001b[0m \u001b[0mself\u001b[0m\u001b[1;33m.\u001b[0m\u001b[0m_plot_args\u001b[0m\u001b[1;33m(\u001b[0m\u001b[0mthis\u001b[0m\u001b[1;33m,\u001b[0m \u001b[0mkwargs\u001b[0m\u001b[1;33m)\u001b[0m\u001b[1;33m\u001b[0m\u001b[1;33m\u001b[0m\u001b[0m\n\u001b[0m\u001b[0;32m    274\u001b[0m \u001b[1;33m\u001b[0m\u001b[0m\n\u001b[0;32m    275\u001b[0m     \u001b[1;32mdef\u001b[0m \u001b[0mget_next_color\u001b[0m\u001b[1;33m(\u001b[0m\u001b[0mself\u001b[0m\u001b[1;33m)\u001b[0m\u001b[1;33m:\u001b[0m\u001b[1;33m\u001b[0m\u001b[1;33m\u001b[0m\u001b[0m\n",
      "\u001b[1;32m~\\anaconda3\\lib\\site-packages\\matplotlib\\axes\\_base.py\u001b[0m in \u001b[0;36m_plot_args\u001b[1;34m(self, tup, kwargs)\u001b[0m\n\u001b[0;32m    397\u001b[0m \u001b[1;33m\u001b[0m\u001b[0m\n\u001b[0;32m    398\u001b[0m         \u001b[1;32mif\u001b[0m \u001b[0mx\u001b[0m\u001b[1;33m.\u001b[0m\u001b[0mshape\u001b[0m\u001b[1;33m[\u001b[0m\u001b[1;36m0\u001b[0m\u001b[1;33m]\u001b[0m \u001b[1;33m!=\u001b[0m \u001b[0my\u001b[0m\u001b[1;33m.\u001b[0m\u001b[0mshape\u001b[0m\u001b[1;33m[\u001b[0m\u001b[1;36m0\u001b[0m\u001b[1;33m]\u001b[0m\u001b[1;33m:\u001b[0m\u001b[1;33m\u001b[0m\u001b[1;33m\u001b[0m\u001b[0m\n\u001b[1;32m--> 399\u001b[1;33m             raise ValueError(f\"x and y must have same first dimension, but \"\n\u001b[0m\u001b[0;32m    400\u001b[0m                              f\"have shapes {x.shape} and {y.shape}\")\n\u001b[0;32m    401\u001b[0m         \u001b[1;32mif\u001b[0m \u001b[0mx\u001b[0m\u001b[1;33m.\u001b[0m\u001b[0mndim\u001b[0m \u001b[1;33m>\u001b[0m \u001b[1;36m2\u001b[0m \u001b[1;32mor\u001b[0m \u001b[0my\u001b[0m\u001b[1;33m.\u001b[0m\u001b[0mndim\u001b[0m \u001b[1;33m>\u001b[0m \u001b[1;36m2\u001b[0m\u001b[1;33m:\u001b[0m\u001b[1;33m\u001b[0m\u001b[1;33m\u001b[0m\u001b[0m\n",
      "\u001b[1;31mValueError\u001b[0m: x and y must have same first dimension, but have shapes (1,) and (0,)"
     ]
    }
   ],
   "source": [
    "fig=plt.figure()\n",
    "ax1=plt.subplot(321)\n",
    "plt.plot(step,f1,'-')\n",
    "plt.text(0.45, 1.3, \"position 1\", fontweight=\"bold\", transform=ax1.transAxes)\n",
    "plt.title('force vs step')\n",
    "plt.subplot(323)\n",
    "plt.plot(p1,f1,'-')\n",
    "plt.title('force vs atom displacement')\n",
    "ax2=plt.subplot(322)\n",
    "plt.plot(step,f2,'-')\n",
    "plt.text(0.45, 1.3, \"position 2\", fontweight=\"bold\", transform=ax2.transAxes)\n",
    "plt.title('force vs step')\n",
    "plt.subplot(324)\n",
    "plt.plot(p2,f2,'-')\n",
    "plt.title('force vs atom displacement')\n",
    "plt.subplot(325)\n",
    "plt.plot(step,p1+zdisp,'.')\n",
    "plt.title('displacement vs step')\n",
    "plt.subplot(326)\n",
    "plt.plot(step,p2+zdisp2,'.')\n",
    "plt.title('displacement vs step')\n"
   ]
  },
  {
   "cell_type": "code",
   "execution_count": 198,
   "metadata": {},
   "outputs": [],
   "source": [
    "totdisp=[]\n",
    "totdisp=p1\n",
    "totdisp.extend(p2)\n",
    "totf=[]\n",
    "totf=f1\n",
    "totf.extend(f2)"
   ]
  },
  {
   "cell_type": "code",
   "execution_count": 199,
   "metadata": {},
   "outputs": [
    {
     "data": {
      "text/plain": [
       "Text(0.5, 1.0, 'force vs step')"
      ]
     },
     "execution_count": 199,
     "metadata": {},
     "output_type": "execute_result"
    }
   ],
   "source": [
    "plt.figure()\n",
    "plt.plot(totdisp,totf,'-')\n",
    "plt.title('force vs step')"
   ]
  },
  {
   "cell_type": "markdown",
   "metadata": {},
   "source": [
    "## Al4 site"
   ]
  },
  {
   "cell_type": "code",
   "execution_count": 214,
   "metadata": {},
   "outputs": [],
   "source": [
    "p1=[]\n",
    "p2=[]\n",
    "f1=[]\n",
    "f2=[]\n",
    "step=[]\n",
    "for i in range (0,len(x)):\n",
    "    step.append(i)\n",
    "    p1.append((x[i][8:12][0][2]))\n",
    "    p2.append((x[i][8:12][1][2]))\n",
    "    f1.append((y[i][8:12][0][2]))\n",
    "    f2.append((y[i][8:12][1][2]))"
   ]
  },
  {
   "cell_type": "code",
   "execution_count": 216,
   "metadata": {},
   "outputs": [
    {
     "data": {
      "text/plain": [
       "Text(0.5, 1.0, 'force vs atom displacement')"
      ]
     },
     "execution_count": 216,
     "metadata": {},
     "output_type": "execute_result"
    }
   ],
   "source": [
    "plt.figure()\n",
    "plt.subplot(221)\n",
    "plt.plot(step,f1,'.')\n",
    "plt.title('force vs step')\n",
    "plt.subplot(222)\n",
    "plt.plot(p1,f1,'.')\n",
    "plt.title('force vs atom displacement')\n",
    "plt.subplot(223)\n",
    "plt.plot(step,f2,'.')\n",
    "plt.title('force vs step')\n",
    "plt.subplot(224)\n",
    "plt.plot(p2,f2,'.')\n",
    "plt.title('force vs atom displacement')"
   ]
  },
  {
   "cell_type": "code",
   "execution_count": 217,
   "metadata": {},
   "outputs": [
    {
     "data": {
      "text/plain": [
       "Text(0.5, 1.0, 'force vs step')"
      ]
     },
     "execution_count": 217,
     "metadata": {},
     "output_type": "execute_result"
    }
   ],
   "source": [
    "plt.figure()\n",
    "plt.subplot(211)\n",
    "plt.plot(step,p1,'.')\n",
    "plt.title('force vs step')\n",
    "plt.subplot(212)\n",
    "plt.plot(step,p2,'.')\n",
    "plt.title('force vs step')"
   ]
  },
  {
   "cell_type": "code",
   "execution_count": 7,
   "metadata": {},
   "outputs": [],
   "source": [
    "# for f in outcar.iforces:\n",
    "#     if f.step == 1:\n",
    "#         break"
   ]
  },
  {
   "cell_type": "code",
   "execution_count": 96,
   "metadata": {},
   "outputs": [
    {
     "data": {
      "text/plain": [
       "[[0.0, 0.0, 0.0],\n",
       " [0.0, 0.0, 10.90043],\n",
       " [0.0, 0.0, 5.45022],\n",
       " [0.0, 0.0, 16.35065],\n",
       " [0.0, 3.21591, 0.62177],\n",
       " [2.78506, 1.60795, 21.17909],\n",
       " [2.78506, 1.60795, 11.5222],\n",
       " [0.0, 3.21591, 10.27866],\n",
       " [0.0, 3.21591, 4.17051],\n",
       " [2.78506, 1.60795, 17.63035],\n",
       " [2.78506, 1.60795, 15.07094],\n",
       " [0.0, 3.21591, 6.72992],\n",
       " [-1.37951, 4.01237, 19.40821],\n",
       " [4.16457, 0.81149, 2.39265],\n",
       " [0.0, 1.62299, 19.40821],\n",
       " [2.78506, 3.20088, 2.39265],\n",
       " [1.37951, 4.01237, 19.40821],\n",
       " [1.40555, 0.81149, 2.39265],\n",
       " [4.16457, 0.81149, 8.50778],\n",
       " [-1.37951, 4.01237, 13.29308],\n",
       " [2.78506, 3.20088, 8.50778],\n",
       " [0.0, 1.62299, 13.29308],\n",
       " [1.40555, 0.81149, 8.50778],\n",
       " [1.37951, 4.01237, 13.29308],\n",
       " [2.78506, 1.60796, 5.45022],\n",
       " [0.0, 3.21591, 16.35065],\n",
       " [0.0, 0.0, 3.29242],\n",
       " [0.0, 0.0, 18.50844],\n",
       " [0.0, 0.0, 14.19285],\n",
       " [0.0, 0.0, 7.60801],\n",
       " [0.0, 3.21591, 20.61318],\n",
       " [2.78506, 1.60795, 1.18768],\n",
       " [2.78506, 1.60795, 9.71275],\n",
       " [0.0, 3.21591, 12.08811],\n",
       " [-1.267, 3.94741, 5.45022],\n",
       " [4.05206, 0.87645, 16.35065],\n",
       " [0.0, 1.75291, 5.45022],\n",
       " [2.78506, 3.07096, 16.35065],\n",
       " [1.267, 3.94741, 5.45022],\n",
       " [1.51806, 0.87645, 16.35065],\n",
       " [-1.49004, 4.07618, 1.14518],\n",
       " [4.2751, 0.74768, 20.65568],\n",
       " [0.0, 1.49536, 1.14518],\n",
       " [2.78506, 3.3285, 20.65568],\n",
       " [1.49004, 4.07618, 1.14518],\n",
       " [1.29502, 0.74768, 20.65568],\n",
       " [4.2751, 0.74768, 12.04561],\n",
       " [-1.49004, 4.07618, 9.75525],\n",
       " [2.78506, 3.3285, 12.04561],\n",
       " [0.0, 1.49536, 9.75525],\n",
       " [1.29502, 0.74768, 12.04561],\n",
       " [1.49004, 4.07618, 9.75525],\n",
       " [1.42146, 2.39523, 3.26667],\n",
       " [1.3636, 2.42864, 18.53419],\n",
       " [2.78506, 0.03341, 3.26667],\n",
       " [-0.0, 4.79046, 18.53419],\n",
       " [4.14866, 2.39523, 3.26667],\n",
       " [-1.3636, 2.42864, 18.53419],\n",
       " [1.3636, 2.42864, 14.1671],\n",
       " [1.42146, 2.39523, 7.63376],\n",
       " [-0.0, 4.79046, 14.1671],\n",
       " [2.78506, 0.03341, 7.63376],\n",
       " [-1.3636, 2.42864, 14.1671],\n",
       " [4.14866, 2.39523, 7.63376]]"
      ]
     },
     "execution_count": 96,
     "metadata": {},
     "output_type": "execute_result"
    }
   ],
   "source": [
    "f.coordinates"
   ]
  },
  {
   "cell_type": "code",
   "execution_count": 9,
   "metadata": {},
   "outputs": [
    {
     "data": {
      "text/plain": [
       "[[0.0, 0.0, 0.0],\n",
       " [0.0, 0.0, 0.0],\n",
       " [0.0, 0.0, 0.0],\n",
       " [0.0, 0.0, 0.0],\n",
       " [0.0, 0.0, 0.153312],\n",
       " [0.0, 0.0, -0.153312],\n",
       " [0.0, 0.0, 0.153312],\n",
       " [0.0, 0.0, -0.153312],\n",
       " [0.0, 0.0, 0.111398],\n",
       " [0.0, 0.0, -0.111398],\n",
       " [0.0, 0.0, 0.111398],\n",
       " [0.0, 0.0, -0.111398],\n",
       " [-0.088036, 0.050827, 0.095752],\n",
       " [0.088036, -0.050827, -0.095752],\n",
       " [0.0, -0.101655, 0.095752],\n",
       " [0.0, 0.101655, -0.095752],\n",
       " [0.088036, 0.050827, 0.095752],\n",
       " [-0.088036, -0.050827, -0.095752],\n",
       " [0.088036, -0.050827, 0.095752],\n",
       " [-0.088036, 0.050827, -0.095752],\n",
       " [0.0, 0.101655, 0.095752],\n",
       " [0.0, -0.101655, -0.095752],\n",
       " [-0.088036, -0.050827, 0.095752],\n",
       " [0.088036, 0.050827, -0.095752],\n",
       " [0.0, 0.0, 0.0],\n",
       " [0.0, 0.0, 0.0],\n",
       " [0.0, 0.0, 0.037287],\n",
       " [0.0, 0.0, -0.037287],\n",
       " [0.0, 0.0, 0.037287],\n",
       " [0.0, 0.0, -0.037287],\n",
       " [0.0, 0.0, -0.088884],\n",
       " [0.0, 0.0, 0.088884],\n",
       " [0.0, 0.0, -0.088884],\n",
       " [0.0, 0.0, 0.088884],\n",
       " [-0.196555, 0.113481, 0.0],\n",
       " [0.196555, -0.113481, 0.0],\n",
       " [0.0, -0.226963, 0.0],\n",
       " [-0.0, 0.226963, 0.0],\n",
       " [0.196555, 0.113481, 0.0],\n",
       " [-0.196555, -0.113481, 0.0],\n",
       " [-0.133757, 0.077225, 0.042377],\n",
       " [0.133757, -0.077225, -0.042377],\n",
       " [-0.0, -0.15445, 0.042377],\n",
       " [0.0, 0.15445, -0.042377],\n",
       " [0.133757, 0.077225, 0.042377],\n",
       " [-0.133757, -0.077225, -0.042377],\n",
       " [0.133757, -0.077225, 0.042377],\n",
       " [-0.133757, 0.077225, -0.042377],\n",
       " [0.0, 0.15445, 0.042377],\n",
       " [-0.0, -0.15445, -0.042377],\n",
       " [-0.133757, -0.077225, 0.042377],\n",
       " [0.133757, 0.077225, -0.042377],\n",
       " [-0.153008, 0.088339, 0.151616],\n",
       " [0.153008, -0.088339, -0.151616],\n",
       " [0.0, -0.176679, 0.151616],\n",
       " [0.0, 0.176679, -0.151616],\n",
       " [0.153008, 0.088339, 0.151616],\n",
       " [-0.153008, -0.088339, -0.151616],\n",
       " [0.153008, -0.088339, 0.151616],\n",
       " [-0.153008, 0.088339, -0.151616],\n",
       " [0.0, 0.176679, 0.151616],\n",
       " [0.0, -0.176679, -0.151616],\n",
       " [-0.153008, -0.088339, 0.151616],\n",
       " [0.153008, 0.088339, -0.151616]]"
      ]
     },
     "execution_count": 9,
     "metadata": {},
     "output_type": "execute_result"
    }
   ],
   "source": [
    "f.forces"
   ]
  },
  {
   "cell_type": "code",
   "execution_count": 10,
   "metadata": {},
   "outputs": [],
   "source": [
    "natom, force = outcar.fmax(f.forces)  # atom number, force vector along x y z axis"
   ]
  },
  {
   "cell_type": "code",
   "execution_count": 11,
   "metadata": {},
   "outputs": [
    {
     "data": {
      "text/plain": [
       "55"
      ]
     },
     "execution_count": 11,
     "metadata": {},
     "output_type": "execute_result"
    }
   ],
   "source": [
    "natom"
   ]
  },
  {
   "cell_type": "code",
   "execution_count": 12,
   "metadata": {},
   "outputs": [
    {
     "data": {
      "text/plain": [
       "[0.0, -0.176679, 0.151616]"
      ]
     },
     "execution_count": 12,
     "metadata": {},
     "output_type": "execute_result"
    }
   ],
   "source": [
    "force"
   ]
  },
  {
   "cell_type": "code",
   "execution_count": null,
   "metadata": {},
   "outputs": [],
   "source": []
  }
 ],
 "metadata": {
  "anaconda-cloud": {},
  "kernelspec": {
   "display_name": "Python 3",
   "language": "python",
   "name": "python3"
  },
  "language_info": {
   "codemirror_mode": {
    "name": "ipython",
    "version": 3
   },
   "file_extension": ".py",
   "mimetype": "text/x-python",
   "name": "python",
   "nbconvert_exporter": "python",
   "pygments_lexer": "ipython3",
   "version": "3.8.8"
  }
 },
 "nbformat": 4,
 "nbformat_minor": 1
}
