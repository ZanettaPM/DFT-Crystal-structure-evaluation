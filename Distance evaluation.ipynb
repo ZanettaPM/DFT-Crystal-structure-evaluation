{
 "cells": [
  {
   "cell_type": "code",
   "execution_count": 10,
   "metadata": {},
   "outputs": [],
   "source": [
    "%matplotlib qt\n",
    "import numpy as np\n",
    "import matplotlib.pyplot as plt"
   ]
  },
  {
   "cell_type": "markdown",
   "metadata": {},
   "source": [
    "# Symmetry estimation"
   ]
  },
  {
   "cell_type": "markdown",
   "metadata": {},
   "source": [
    "# Distance determination between central atoms and bonded O"
   ]
  },
  {
   "cell_type": "code",
   "execution_count": 11,
   "metadata": {},
   "outputs": [],
   "source": [
    "from pymatgen.core import Lattice, Structure\n",
    "from pymatgen.analysis import local_env"
   ]
  },
  {
   "cell_type": "code",
   "execution_count": 12,
   "metadata": {},
   "outputs": [],
   "source": [
    "import glob"
   ]
  },
  {
   "cell_type": "code",
   "execution_count": 13,
   "metadata": {},
   "outputs": [],
   "source": [
    "## Prepare\n",
    "#from polyhedron_analysis import * # change accordingly\n",
    "import pymatgen.core.structure\n",
    "\n",
    "# convert cif to pymatgen structure\n",
    "mp_struct = pymatgen.core.structure.Structure.from_file(\"TiAl4fullMgAl3full/4atomsMgTionAl3Al4/ISIF7/ISIF2/ISIF7/ISIF2/CONTCAR\")"
   ]
  },
  {
   "cell_type": "code",
   "execution_count": 469,
   "metadata": {},
   "outputs": [],
   "source": [
    "#Jahn-Teller distortion"
   ]
  },
  {
   "cell_type": "code",
   "execution_count": 470,
   "metadata": {
    "scrolled": false
   },
   "outputs": [],
   "source": [
    "# mp_struct"
   ]
  },
  {
   "cell_type": "code",
   "execution_count": 471,
   "metadata": {},
   "outputs": [],
   "source": [
    "#mp_struct.sort()"
   ]
  },
  {
   "cell_type": "code",
   "execution_count": 14,
   "metadata": {},
   "outputs": [],
   "source": [
    "ns=mp_struct.num_sites\n",
    "dic=mp_struct.composition.as_dict()"
   ]
  },
  {
   "cell_type": "code",
   "execution_count": 15,
   "metadata": {},
   "outputs": [],
   "source": [
    "nCa=int(dic['Ca'])\n",
    "nMg=int(dic['Mg'])\n",
    "nTi=int(dic['Ti'])\n",
    "nAl=int(dic['Al'])\n",
    "nO=int(dic['O'])\n",
    "ncat=nCa+nMg+nTi+nAl"
   ]
  },
  {
   "cell_type": "code",
   "execution_count": 16,
   "metadata": {},
   "outputs": [],
   "source": [
    "nTiM2=0"
   ]
  },
  {
   "cell_type": "code",
   "execution_count": 17,
   "metadata": {},
   "outputs": [],
   "source": [
    "nTiM4=int(dic['Ti'])-nTiM2"
   ]
  },
  {
   "cell_type": "code",
   "execution_count": 18,
   "metadata": {},
   "outputs": [
    {
     "data": {
      "text/plain": [
       "16"
      ]
     },
     "execution_count": 18,
     "metadata": {},
     "output_type": "execute_result"
    }
   ],
   "source": [
    "nTiM4"
   ]
  },
  {
   "cell_type": "code",
   "execution_count": 19,
   "metadata": {},
   "outputs": [],
   "source": [
    "bond_distance=[2,2.8,2.,2.5,2.5,3.3]"
   ]
  },
  {
   "cell_type": "markdown",
   "metadata": {},
   "source": [
    "### Hibonite Nominal distance"
   ]
  },
  {
   "cell_type": "code",
   "execution_count": 22,
   "metadata": {
    "scrolled": true
   },
   "outputs": [
    {
     "name": "stdout",
     "output_type": "stream",
     "text": [
      "6\n",
      "6\n",
      "6\n",
      "6\n",
      "6\n",
      "6\n",
      "6\n",
      "6\n",
      "5\n",
      "5\n",
      "5\n",
      "5\n",
      "5\n",
      "5\n",
      "5\n",
      "5\n",
      "6\n",
      "6\n",
      "6\n",
      "6\n",
      "6\n",
      "6\n",
      "6\n",
      "6\n",
      "6\n",
      "6\n",
      "6\n",
      "6\n",
      "6\n",
      "6\n",
      "6\n",
      "6\n",
      "6\n",
      "6\n",
      "6\n",
      "6\n",
      "6\n",
      "6\n",
      "6\n",
      "6\n",
      "6\n",
      "6\n",
      "6\n",
      "6\n",
      "6\n",
      "6\n",
      "6\n",
      "6\n",
      "6\n",
      "6\n",
      "6\n",
      "6\n",
      "6\n",
      "6\n",
      "6\n",
      "6\n",
      "6\n",
      "6\n",
      "6\n",
      "6\n",
      "6\n",
      "6\n",
      "6\n",
      "6\n",
      "12\n",
      "12\n",
      "12\n",
      "12\n",
      "12\n",
      "12\n",
      "12\n",
      "12\n",
      "4\n",
      "4\n",
      "4\n",
      "4\n",
      "4\n",
      "4\n",
      "4\n",
      "4\n",
      "4\n",
      "4\n",
      "4\n",
      "4\n",
      "4\n",
      "4\n",
      "4\n",
      "4\n",
      "6\n",
      "6\n",
      "6\n",
      "6\n",
      "6\n",
      "6\n",
      "6\n",
      "6\n",
      "6\n",
      "6\n",
      "6\n",
      "6\n",
      "6\n",
      "6\n",
      "6\n",
      "6\n"
     ]
    }
   ],
   "source": [
    "Al1dist=[]\n",
    "todel=[]\n",
    "for i in range (0,8):\n",
    "    polyhedra=mp_struct.get_neighbors(mp_struct[i],bond_distance[0])\n",
    "    polyhedra.sort(reverse=True)\n",
    "    for j in range (0,len(polyhedra)):\n",
    "        if polyhedra[j].species_string !='O':\n",
    "            del polyhedra[j:]\n",
    "            break\n",
    "    rsum=0\n",
    "    psum=[]\n",
    "    for u in range (0,len(polyhedra)):\n",
    "        rloc=mp_struct[i].distance(polyhedra[u])\n",
    "        psum.append(((rloc-1.88)/1.88)**2)\n",
    "    Al1dist.append(np.sum(psum))\n",
    "    print(len(polyhedra))\n",
    "Al2dist=[]\n",
    "todel=[]\n",
    "for i in range (8,8+(8-nTiM2)):\n",
    "    polyhedra=mp_struct.get_neighbors(mp_struct[i],bond_distance[1])\n",
    "    polyhedra.sort(reverse=True)\n",
    "    for j in range (0,len(polyhedra)):\n",
    "        if polyhedra[j].species_string !='O':\n",
    "            del polyhedra[j:]\n",
    "            break\n",
    "    rsum=0\n",
    "    psum=[]\n",
    "    for u in range (0,len(polyhedra)):\n",
    "        rloc=mp_struct[i].distance(polyhedra[u])\n",
    "        psum.append(((rloc-1.75)/1.75)**2)\n",
    "    Al2dist.append(np.sum(psum))\n",
    "    print(len(polyhedra))\n",
    "    \n",
    "Al3dist=[]\n",
    "todel=[]\n",
    "for i in range (8+(8-nTiM2),8+(8-nTiM2)+(16-nMg)):\n",
    "    polyhedra=mp_struct.get_neighbors(mp_struct[i],bond_distance[2])\n",
    "    polyhedra.sort(reverse=True)\n",
    "    for j in range (0,len(polyhedra)):\n",
    "        if polyhedra[j].species_string !='O':\n",
    "            del polyhedra[j:]\n",
    "            break\n",
    "    rsum=0\n",
    "    psum=[]\n",
    "    for u in range (0,len(polyhedra)):\n",
    "        rloc=mp_struct[i].distance(polyhedra[u])\n",
    "        psum.append(((rloc-1.8)/1.8)**2)\n",
    "    Al3dist.append(np.sum(psum))\n",
    "    print(len(polyhedra))\n",
    "    \n",
    "Al4dist=[]\n",
    "todel=[]\n",
    "for i in range (8+(8-nTiM2)+(16-nMg),8+(8-nTiM2)+(16-nMg)+(16-nTiM4)):\n",
    "    polyhedra=mp_struct.get_neighbors(mp_struct[i],bond_distance[3])\n",
    "    polyhedra.sort(reverse=True)\n",
    "    for j in range (0,len(polyhedra)):\n",
    "        if polyhedra[j].species_string !='O':\n",
    "            del polyhedra[j:]\n",
    "            break\n",
    "    rsum=0\n",
    "    psum=[]\n",
    "    for u in range (0,len(polyhedra)):\n",
    "        rloc=mp_struct[i].distance(polyhedra[u])\n",
    "        psum.append(((rloc-1.85)/1.85)**2)\n",
    "    Al4dist.append(np.sum(psum))\n",
    "    print(len(polyhedra))\n",
    "                \n",
    "Al5dist=[]\n",
    "todel=[]\n",
    "for i in range (8+(8-nTiM2)+(16-nMg)+(16-nTiM4),8+(8-nTiM2)+(16-nMg)+(16-nTiM4)+48):\n",
    "    polyhedra=mp_struct.get_neighbors(mp_struct[i],bond_distance[4])\n",
    "    polyhedra.sort(reverse=True)\n",
    "    for j in range (0,len(polyhedra)):\n",
    "        if polyhedra[j].species_string !='O':\n",
    "            del polyhedra[j:]\n",
    "            break\n",
    "    rsum=0\n",
    "    psum=[]\n",
    "    for u in range (0,len(polyhedra)):\n",
    "        rloc=mp_struct[i].distance(polyhedra[u])\n",
    "        psum.append(((rloc-1.85)/1.85)**2)\n",
    "    Al5dist.append(np.sum(psum))\n",
    "    print(len(polyhedra))                \n",
    "    \n",
    "Cadist=[]\n",
    "todel=[]\n",
    "for i in range (8+(8-nTiM2)+(16-nMg)+(16-nTiM4)+48,8+(8-nTiM2)+(16-nMg)+(16-nTiM4)+48+nCa):\n",
    "    polyhedra=mp_struct.get_neighbors(mp_struct[i],bond_distance[5])\n",
    "    polyhedra.sort(reverse=True)\n",
    "    for j in range (0,len(polyhedra)):\n",
    "        if polyhedra[j].species_string !='O':\n",
    "            del polyhedra[j:]\n",
    "            break\n",
    "    rsum=0\n",
    "    psum=[]\n",
    "    for u in range (0,len(polyhedra)):\n",
    "        rloc=mp_struct[i].distance(polyhedra[u])\n",
    "        psum.append(((rloc-2.7)/2.7)**2)\n",
    "    Cadist.append(np.sum(psum))\n",
    "    print(len(polyhedra))\n",
    "Mgdist=[]\n",
    "todel=[]\n",
    "for i in range (8+(8-nTiM2)+(16-nMg)+(16-nTiM4)+48+nCa,8+(8-nTiM2)+(16-nMg)+(16-nTiM4)+48+nCa+nMg):\n",
    "    polyhedra=mp_struct.get_neighbors(mp_struct[i],bond_distance[2])\n",
    "    polyhedra.sort(reverse=True)\n",
    "    for j in range (0,len(polyhedra)):\n",
    "        if polyhedra[j].species_string !='O':\n",
    "            del polyhedra[j:]\n",
    "            break\n",
    "    rsum=0\n",
    "    psum=[]\n",
    "    for u in range (0,len(polyhedra)):\n",
    "        rloc=mp_struct[i].distance(polyhedra[u])\n",
    "        psum.append(((rloc-1.8)/1.8)**2)\n",
    "    Mgdist.append(np.sum(psum))\n",
    "    print(len(polyhedra))\n",
    "TiM2dist=[]\n",
    "todel=[]\n",
    "for i in range (ns-(nTiM2+nTiM4),ns-nTiM4):\n",
    "    polyhedra=mp_struct.get_neighbors(mp_struct[i],bond_distance[1])\n",
    "    polyhedra.sort(reverse=True)\n",
    "    for j in range (0,len(polyhedra)):\n",
    "        if polyhedra[j].species_string !='O':\n",
    "            del polyhedra[j:]\n",
    "            break\n",
    "    rsum=0\n",
    "    psum=[]\n",
    "    for u in range (0,len(polyhedra)):\n",
    "        rloc=mp_struct[i].distance(polyhedra[u])\n",
    "        psum.append(((rloc-1.75)/1.75)**2)\n",
    "    TiM2dist.append(np.sum(psum))\n",
    "    print(len(polyhedra))\n",
    "TiM4dist=[]\n",
    "todel=[]\n",
    "for i in range (ns-nTiM4,ns):\n",
    "    polyhedra=mp_struct.get_neighbors(mp_struct[i],bond_distance[3])\n",
    "    polyhedra.sort(reverse=True)\n",
    "    for j in range (0,len(polyhedra)):\n",
    "        if polyhedra[j].species_string !='O':\n",
    "            del polyhedra[j:]\n",
    "            break\n",
    "    rsum=0\n",
    "    psum=[]\n",
    "    for u in range (0,len(polyhedra)):\n",
    "        rloc=mp_struct[i].distance(polyhedra[u])\n",
    "        psum.append(((rloc-1.85)/1.85)**2)\n",
    "    TiM4dist.append(np.sum(psum))\n",
    "    print(len(polyhedra))\n",
    "    "
   ]
  },
  {
   "cell_type": "code",
   "execution_count": 479,
   "metadata": {},
   "outputs": [],
   "source": [
    "title='SQS5'"
   ]
  },
  {
   "cell_type": "code",
   "execution_count": 445,
   "metadata": {},
   "outputs": [],
   "source": [
    "fig, ax = plt.subplots()\n",
    "plt.hist([Al1dist,Al2dist, Al3dist, Al4dist, Al5dist, Cadist,Mgdist,TiM2dist,TiM4dist])\n",
    "plt.legend(['Al1','Al2','Al3','Al4','Al5','Ca','MgM3','TiM2','TiM4'])\n",
    "\n",
    "plt.title(title)\n",
    "image_format = 'svg' # e.g .png, .svg, etc.\n",
    "image_name = title +'.svg'\n",
    "\n",
    "fig.savefig('Nominal/New/'+ image_name, format=image_format, dpi=1200)"
   ]
  },
  {
   "cell_type": "code",
   "execution_count": 446,
   "metadata": {},
   "outputs": [
    {
     "data": {
      "text/plain": [
       "0.0007897613551442697"
      ]
     },
     "execution_count": 446,
     "metadata": {},
     "output_type": "execute_result"
    }
   ],
   "source": [
    "np.mean(Al1dist)"
   ]
  },
  {
   "cell_type": "code",
   "execution_count": 447,
   "metadata": {},
   "outputs": [
    {
     "data": {
      "text/plain": [
       "0.23452581743188933"
      ]
     },
     "execution_count": 447,
     "metadata": {},
     "output_type": "execute_result"
    }
   ],
   "source": [
    "np.mean(Al2dist)"
   ]
  },
  {
   "cell_type": "code",
   "execution_count": 448,
   "metadata": {},
   "outputs": [
    {
     "name": "stderr",
     "output_type": "stream",
     "text": [
      "C:\\Users\\Pierre-Marie\\anaconda3\\lib\\site-packages\\numpy\\core\\fromnumeric.py:3474: RuntimeWarning: Mean of empty slice.\n",
      "  return _methods._mean(a, axis=axis, dtype=dtype,\n",
      "C:\\Users\\Pierre-Marie\\anaconda3\\lib\\site-packages\\numpy\\core\\_methods.py:189: RuntimeWarning: invalid value encountered in double_scalars\n",
      "  ret = ret.dtype.type(ret / rcount)\n"
     ]
    },
    {
     "data": {
      "text/plain": [
       "nan"
      ]
     },
     "execution_count": 448,
     "metadata": {},
     "output_type": "execute_result"
    }
   ],
   "source": [
    "np.mean(Al3dist)"
   ]
  },
  {
   "cell_type": "code",
   "execution_count": 449,
   "metadata": {},
   "outputs": [
    {
     "data": {
      "text/plain": [
       "nan"
      ]
     },
     "execution_count": 449,
     "metadata": {},
     "output_type": "execute_result"
    }
   ],
   "source": [
    "np.mean(Al4dist)"
   ]
  },
  {
   "cell_type": "code",
   "execution_count": 450,
   "metadata": {},
   "outputs": [
    {
     "data": {
      "text/plain": [
       "0.007551308406161424"
      ]
     },
     "execution_count": 450,
     "metadata": {},
     "output_type": "execute_result"
    }
   ],
   "source": [
    "np.mean(Al5dist)"
   ]
  },
  {
   "cell_type": "code",
   "execution_count": 451,
   "metadata": {},
   "outputs": [
    {
     "data": {
      "text/plain": [
       "0.06725990856533023"
      ]
     },
     "execution_count": 451,
     "metadata": {},
     "output_type": "execute_result"
    }
   ],
   "source": [
    "np.mean(Cadist)"
   ]
  },
  {
   "cell_type": "code",
   "execution_count": 452,
   "metadata": {
    "scrolled": true
   },
   "outputs": [
    {
     "data": {
      "text/plain": [
       "0.022929166382068187"
      ]
     },
     "execution_count": 452,
     "metadata": {},
     "output_type": "execute_result"
    }
   ],
   "source": [
    "np.mean(Mgdist)"
   ]
  },
  {
   "cell_type": "code",
   "execution_count": 453,
   "metadata": {},
   "outputs": [
    {
     "data": {
      "text/plain": [
       "nan"
      ]
     },
     "execution_count": 453,
     "metadata": {},
     "output_type": "execute_result"
    }
   ],
   "source": [
    "np.mean(TiM2dist)"
   ]
  },
  {
   "cell_type": "code",
   "execution_count": 455,
   "metadata": {},
   "outputs": [
    {
     "data": {
      "text/plain": [
       "0.04309878113489103"
      ]
     },
     "execution_count": 455,
     "metadata": {},
     "output_type": "execute_result"
    }
   ],
   "source": [
    "np.mean(TiM4dist)"
   ]
  },
  {
   "cell_type": "code",
   "execution_count": null,
   "metadata": {},
   "outputs": [],
   "source": []
  },
  {
   "cell_type": "code",
   "execution_count": null,
   "metadata": {},
   "outputs": [],
   "source": []
  },
  {
   "cell_type": "markdown",
   "metadata": {},
   "source": [
    "### Mean Distance"
   ]
  },
  {
   "cell_type": "code",
   "execution_count": 483,
   "metadata": {},
   "outputs": [
    {
     "name": "stdout",
     "output_type": "stream",
     "text": [
      "[9.797527639332686e-05, 0.0007478832554618628, 0.0010099487321938438, 4.044881944183942e-05, 6.673868385641478e-05, 5.293211393209645e-05]\n",
      "[0.0001068792637861647, 0.00046414056233359195, 0.0004081007297967782, 0.000554814830217764, 0.00045046024018803344, 0.00019631149314969172]\n",
      "[4.6296070228010865e-05, 0.0007496619737245299, 0.0006094785587322685, 0.0005431226728848718, 0.0005542864179978252, 8.571356330660706e-05]\n",
      "[0.0008088744524895847, 0.0003247429247661572, 0.0004930740513432927, 1.0985377183010484e-05, 0.00022654907268545272, 3.46933442694859e-05]\n",
      "[0.0005011153142803851, 4.83468472612636e-05, 7.91902360530568e-05, 0.0001399277339480528, 6.213126591977188e-05, 0.0005947097567616458]\n",
      "[5.474470799390491e-07, 0.00011490940781353131, 0.001286143921503055, 0.00046052298249503465, 0.0004530388287948392, 9.597756766258894e-06]\n",
      "[3.619717043340504e-05, 0.00011490455145153965, 0.000625289941027824, 0.0006019274584899532, 0.0006900688350764546, 0.000988705961898886]\n",
      "[0.0007463641364699443, 8.295192689663461e-05, 5.2644396997211404e-05, 1.840973026419264e-05, 4.2660202460136345e-05, 0.0007252783871991319]\n",
      "5\n",
      "5\n",
      "5\n",
      "5\n",
      "4\n",
      "4\n",
      "4\n",
      "4\n",
      "4\n",
      "4\n",
      "4\n",
      "4\n",
      "6\n",
      "6\n",
      "6\n",
      "6\n",
      "6\n",
      "6\n",
      "6\n",
      "6\n",
      "6\n",
      "6\n",
      "6\n",
      "6\n",
      "6\n",
      "6\n",
      "6\n",
      "6\n",
      "6\n",
      "6\n",
      "6\n",
      "6\n",
      "6\n",
      "6\n",
      "6\n",
      "6\n",
      "6\n",
      "6\n",
      "6\n",
      "6\n",
      "6\n",
      "6\n",
      "6\n",
      "6\n",
      "6\n",
      "6\n",
      "6\n",
      "6\n",
      "6\n",
      "6\n",
      "6\n",
      "6\n",
      "6\n",
      "6\n",
      "6\n",
      "6\n",
      "6\n",
      "6\n",
      "6\n",
      "6\n",
      "6\n",
      "6\n",
      "6\n",
      "6\n",
      "6\n",
      "6\n",
      "6\n",
      "6\n",
      "6\n",
      "6\n",
      "6\n",
      "6\n",
      "12\n",
      "12\n",
      "12\n",
      "12\n",
      "12\n",
      "12\n",
      "12\n",
      "12\n",
      "4\n",
      "4\n",
      "4\n",
      "4\n",
      "4\n",
      "4\n",
      "4\n",
      "4\n",
      "5\n",
      "5\n",
      "5\n",
      "5\n",
      "6\n",
      "6\n",
      "6\n",
      "6\n"
     ]
    }
   ],
   "source": [
    "Al1dist=[]\n",
    "todel=[]\n",
    "for i in range (0,8):\n",
    "    polyhedra=mp_struct.get_neighbors(mp_struct[i],bond_distance[0])\n",
    "    polyhedra.sort(reverse=True)\n",
    "    for j in range (0,len(polyhedra)):\n",
    "        if polyhedra[j].species_string !='O':\n",
    "            del polyhedra[j:]\n",
    "            break\n",
    "    rsum=0\n",
    "    psum=[]\n",
    "    for u in range (0,len(polyhedra)):\n",
    "        rsum+=mp_struct[i].distance(polyhedra[u])\n",
    "    rmean=rsum/(len(polyhedra))\n",
    "    for u in range (0,len(polyhedra)):\n",
    "        rloc=mp_struct[i].distance(polyhedra[u])\n",
    "        psum.append(((rloc-rmean)/rmean)**2)\n",
    "    Al1dist.append(np.sum(psum))\n",
    "    print(psum)\n",
    "Al2dist=[]\n",
    "todel=[]\n",
    "for i in range (8,8+(8-nTiM2)):\n",
    "    polyhedra=mp_struct.get_neighbors(mp_struct[i],bond_distance[1])\n",
    "    polyhedra.sort(reverse=True)\n",
    "    for j in range (0,len(polyhedra)):\n",
    "        if polyhedra[j].species_string !='O':\n",
    "            del polyhedra[j:]\n",
    "            break\n",
    "    rsum=0\n",
    "    psum=[]\n",
    "    for u in range (0,len(polyhedra)):\n",
    "        rsum+=mp_struct[i].distance(polyhedra[u])\n",
    "    rmean=rsum/(len(polyhedra))\n",
    "    for u in range (0,len(polyhedra)):\n",
    "        rloc=mp_struct[i].distance(polyhedra[u])\n",
    "        psum.append(((rloc-rmean)/rmean)**2)\n",
    "    Al2dist.append(np.sum(psum))\n",
    "    print(len(polyhedra))\n",
    "    \n",
    "Al3dist=[]\n",
    "todel=[]\n",
    "for i in range (8+(8-nTiM2),8+(8-nTiM2)+(16-nMg)):\n",
    "    polyhedra=mp_struct.get_neighbors(mp_struct[i],bond_distance[2])\n",
    "    polyhedra.sort(reverse=True)\n",
    "    for j in range (0,len(polyhedra)):\n",
    "        if polyhedra[j].species_string !='O':\n",
    "            del polyhedra[j:]\n",
    "            break\n",
    "    rsum=0\n",
    "    psum=[]\n",
    "    for u in range (0,len(polyhedra)):\n",
    "        rsum+=mp_struct[i].distance(polyhedra[u])\n",
    "    rmean=rsum/(len(polyhedra))\n",
    "    for u in range (0,len(polyhedra)):\n",
    "        rloc=mp_struct[i].distance(polyhedra[u])\n",
    "        psum.append(((rloc-rmean)/rmean)**2)\n",
    "    Al3dist.append(np.sum(psum))\n",
    "    print(len(polyhedra))\n",
    "    \n",
    "Al4dist=[]\n",
    "todel=[]\n",
    "for i in range (8+(8-nTiM2)+(16-nMg),8+(8-nTiM2)+(16-nMg)+(16-nTiM4)):\n",
    "    polyhedra=mp_struct.get_neighbors(mp_struct[i],bond_distance[3])\n",
    "    polyhedra.sort(reverse=True)\n",
    "    for j in range (0,len(polyhedra)):\n",
    "        if polyhedra[j].species_string !='O':\n",
    "            del polyhedra[j:]\n",
    "            break\n",
    "    rsum=0\n",
    "    psum=[]\n",
    "    for u in range (0,len(polyhedra)):\n",
    "        rsum+=mp_struct[i].distance(polyhedra[u])\n",
    "    rmean=rsum/(len(polyhedra))\n",
    "    for u in range (0,len(polyhedra)):\n",
    "        rloc=mp_struct[i].distance(polyhedra[u])\n",
    "        psum.append(((rloc-rmean)/rmean)**2)\n",
    "    Al4dist.append(np.sum(psum))\n",
    "    print(len(polyhedra))\n",
    "                \n",
    "Al5dist=[]\n",
    "todel=[]\n",
    "for i in range (8+(8-nTiM2)+(16-nMg)+(16-nTiM4),8+(8-nTiM2)+(16-nMg)+(16-nTiM4)+48):\n",
    "    polyhedra=mp_struct.get_neighbors(mp_struct[i],bond_distance[4])\n",
    "    polyhedra.sort(reverse=True)\n",
    "    for j in range (0,len(polyhedra)):\n",
    "        if polyhedra[j].species_string !='O':\n",
    "            del polyhedra[j:]\n",
    "            break\n",
    "    rsum=0\n",
    "    psum=[]\n",
    "    for u in range (0,len(polyhedra)):\n",
    "        rsum+=mp_struct[i].distance(polyhedra[u])\n",
    "    rmean=rsum/(len(polyhedra))\n",
    "    for u in range (0,len(polyhedra)):\n",
    "        rloc=mp_struct[i].distance(polyhedra[u])\n",
    "        psum.append(((rloc-rmean)/rmean)**2)\n",
    "    Al5dist.append(np.sum(psum))\n",
    "    print(len(polyhedra))             \n",
    "    \n",
    "Cadist=[]\n",
    "todel=[]\n",
    "for i in range (8+(8-nTiM2)+(16-nMg)+(16-nTiM4)+48,8+(8-nTiM2)+(16-nMg)+(16-nTiM4)+48+nCa):\n",
    "    polyhedra=mp_struct.get_neighbors(mp_struct[i],bond_distance[5])\n",
    "    polyhedra.sort(reverse=True)\n",
    "    for j in range (0,len(polyhedra)):\n",
    "        if polyhedra[j].species_string !='O':\n",
    "            del polyhedra[j:]\n",
    "            break\n",
    "    rsum=0\n",
    "    psum=[]\n",
    "    for u in range (0,len(polyhedra)):\n",
    "        rsum+=mp_struct[i].distance(polyhedra[u])\n",
    "    rmean=rsum/(len(polyhedra))\n",
    "    for u in range (0,len(polyhedra)):\n",
    "        rloc=mp_struct[i].distance(polyhedra[u])\n",
    "        psum.append(((rloc-rmean)/rmean)**2)\n",
    "    Cadist.append(np.sum(psum))\n",
    "    print(len(polyhedra))\n",
    "    \n",
    "Mgdist=[]\n",
    "todel=[]\n",
    "for i in range (8+(8-nTiM2)+(16-nMg)+(16-nTiM4)+48+nCa,8+(8-nTiM2)+(16-nMg)+(16-nTiM4)+48+nCa+nMg):\n",
    "    polyhedra=mp_struct.get_neighbors(mp_struct[i],bond_distance[2])\n",
    "    polyhedra.sort(reverse=True)\n",
    "    for j in range (0,len(polyhedra)):\n",
    "        if polyhedra[j].species_string !='O':\n",
    "            del polyhedra[j:]\n",
    "            break\n",
    "    rsum=0\n",
    "    psum=[]\n",
    "    for u in range (0,len(polyhedra)):\n",
    "        rsum+=mp_struct[i].distance(polyhedra[u])\n",
    "    rmean=rsum/(len(polyhedra))\n",
    "    for u in range (0,len(polyhedra)):\n",
    "        rloc=mp_struct[i].distance(polyhedra[u])\n",
    "        psum.append(((rloc-rmean)/rmean)**2)\n",
    "    Mgdist.append(np.sum(psum))\n",
    "    print(len(polyhedra))\n",
    "    \n",
    "TiM2dist=[]\n",
    "todel=[]\n",
    "for i in range (ns-(nTiM2+nTiM4),ns-nTiM4):\n",
    "    polyhedra=mp_struct.get_neighbors(mp_struct[i],bond_distance[1])\n",
    "    polyhedra.sort(reverse=True)\n",
    "    for j in range (0,len(polyhedra)):\n",
    "        if polyhedra[j].species_string !='O':\n",
    "            del polyhedra[j:]\n",
    "            break\n",
    "    rsum=0\n",
    "    psum=[]\n",
    "    for u in range (0,len(polyhedra)):\n",
    "        rsum+=mp_struct[i].distance(polyhedra[u])\n",
    "    rmean=rsum/(len(polyhedra))\n",
    "    for u in range (0,len(polyhedra)):\n",
    "        rloc=mp_struct[i].distance(polyhedra[u])\n",
    "        psum.append(((rloc-rmean)/rmean)**2)\n",
    "    TiM2dist.append(np.sum(psum))\n",
    "    print(len(polyhedra))\n",
    "TiM4dist=[]\n",
    "todel=[]\n",
    "for i in range (ns-nTiM4,ns):\n",
    "    polyhedra=mp_struct.get_neighbors(mp_struct[i],bond_distance[3])\n",
    "    polyhedra.sort(reverse=True)\n",
    "    for j in range (0,len(polyhedra)):\n",
    "        if polyhedra[j].species_string !='O':\n",
    "            del polyhedra[j:]\n",
    "            break\n",
    "    rsum=0\n",
    "    psum=[]\n",
    "    for u in range (0,len(polyhedra)):\n",
    "        rsum+=mp_struct[i].distance(polyhedra[u])\n",
    "    rmean=rsum/(len(polyhedra))\n",
    "    for u in range (0,len(polyhedra)):\n",
    "        rloc=mp_struct[i].distance(polyhedra[u])\n",
    "        psum.append(((rloc-rmean)/rmean)**2)\n",
    "    TiM4dist.append(np.sum(psum))\n",
    "    print(len(polyhedra))\n",
    "    "
   ]
  },
  {
   "cell_type": "code",
   "execution_count": 457,
   "metadata": {},
   "outputs": [
    {
     "data": {
      "text/plain": [
       "2.0436590828845635"
      ]
     },
     "execution_count": 457,
     "metadata": {},
     "output_type": "execute_result"
    }
   ],
   "source": [
    "rloc"
   ]
  },
  {
   "cell_type": "code",
   "execution_count": 458,
   "metadata": {},
   "outputs": [],
   "source": [
    "fig, ax = plt.subplots()\n",
    "plt.hist([Al1dist,Al2dist, Al3dist, Al4dist, Al5dist, Cadist,Mgdist,TiM2dist,TiM4dist])\n",
    "plt.legend(['Al1','Al2','Al3','Al4','Al5','Ca','MgM3','TiM2','TiM4'])\n",
    "\n",
    "plt.title(title)\n",
    "image_format = 'svg' # e.g .png, .svg, etc.\n",
    "image_name = title +'.svg'\n",
    "\n",
    "fig.savefig('Mean/New/'+ image_name, format=image_format, dpi=1200)"
   ]
  },
  {
   "cell_type": "code",
   "execution_count": 423,
   "metadata": {},
   "outputs": [
    {
     "data": {
      "text/plain": [
       "251"
      ]
     },
     "execution_count": 423,
     "metadata": {},
     "output_type": "execute_result"
    }
   ],
   "source": [
    "i"
   ]
  },
  {
   "cell_type": "code",
   "execution_count": 494,
   "metadata": {},
   "outputs": [
    {
     "data": {
      "text/plain": [
       "[0.02450597778562414,\n",
       " 0.020000679546022405,\n",
       " 0.018745139903796344,\n",
       " 0.015478266431359479,\n",
       " 0.021444173007076402,\n",
       " 0.009453460929491548,\n",
       " 0.007326201478260541,\n",
       " 0.03286448187136849]"
      ]
     },
     "execution_count": 494,
     "metadata": {},
     "output_type": "execute_result"
    }
   ],
   "source": [
    "Cadist"
   ]
  },
  {
   "cell_type": "code",
   "execution_count": 459,
   "metadata": {},
   "outputs": [
    {
     "data": {
      "text/plain": [
       "0.00019317512005517117"
      ]
     },
     "execution_count": 459,
     "metadata": {},
     "output_type": "execute_result"
    }
   ],
   "source": [
    "np.mean(Al1dist)"
   ]
  },
  {
   "cell_type": "code",
   "execution_count": 460,
   "metadata": {},
   "outputs": [
    {
     "data": {
      "text/plain": [
       "0.13881331924157325"
      ]
     },
     "execution_count": 460,
     "metadata": {},
     "output_type": "execute_result"
    }
   ],
   "source": [
    "np.mean(Al2dist)"
   ]
  },
  {
   "cell_type": "code",
   "execution_count": 461,
   "metadata": {},
   "outputs": [
    {
     "data": {
      "text/plain": [
       "nan"
      ]
     },
     "execution_count": 461,
     "metadata": {},
     "output_type": "execute_result"
    }
   ],
   "source": [
    "np.mean(Al3dist)"
   ]
  },
  {
   "cell_type": "code",
   "execution_count": 462,
   "metadata": {},
   "outputs": [
    {
     "data": {
      "text/plain": [
       "nan"
      ]
     },
     "execution_count": 462,
     "metadata": {},
     "output_type": "execute_result"
    }
   ],
   "source": [
    "np.mean(Al4dist)"
   ]
  },
  {
   "cell_type": "code",
   "execution_count": 463,
   "metadata": {},
   "outputs": [
    {
     "data": {
      "text/plain": [
       "0.001263308976077155"
      ]
     },
     "execution_count": 463,
     "metadata": {},
     "output_type": "execute_result"
    }
   ],
   "source": [
    "np.mean(Al5dist)"
   ]
  },
  {
   "cell_type": "code",
   "execution_count": 464,
   "metadata": {},
   "outputs": [
    {
     "data": {
      "text/plain": [
       "0.051615217889628986"
      ]
     },
     "execution_count": 464,
     "metadata": {},
     "output_type": "execute_result"
    }
   ],
   "source": [
    "np.mean(Cadist)"
   ]
  },
  {
   "cell_type": "code",
   "execution_count": 465,
   "metadata": {},
   "outputs": [
    {
     "data": {
      "text/plain": [
       "0.00021685249769624486"
      ]
     },
     "execution_count": 465,
     "metadata": {},
     "output_type": "execute_result"
    }
   ],
   "source": [
    "np.mean(Mgdist)"
   ]
  },
  {
   "cell_type": "code",
   "execution_count": 466,
   "metadata": {},
   "outputs": [
    {
     "data": {
      "text/plain": [
       "nan"
      ]
     },
     "execution_count": 466,
     "metadata": {},
     "output_type": "execute_result"
    }
   ],
   "source": [
    "np.mean(TiM2dist)"
   ]
  },
  {
   "cell_type": "code",
   "execution_count": 467,
   "metadata": {},
   "outputs": [
    {
     "data": {
      "text/plain": [
       "0.008409506525907273"
      ]
     },
     "execution_count": 467,
     "metadata": {},
     "output_type": "execute_result"
    }
   ],
   "source": [
    "np.mean(TiM4dist)"
   ]
  },
  {
   "cell_type": "code",
   "execution_count": null,
   "metadata": {},
   "outputs": [],
   "source": []
  },
  {
   "cell_type": "code",
   "execution_count": null,
   "metadata": {},
   "outputs": [],
   "source": []
  },
  {
   "cell_type": "code",
   "execution_count": null,
   "metadata": {},
   "outputs": [],
   "source": []
  },
  {
   "cell_type": "code",
   "execution_count": null,
   "metadata": {},
   "outputs": [],
   "source": []
  },
  {
   "cell_type": "code",
   "execution_count": 218,
   "metadata": {},
   "outputs": [
    {
     "ename": "NameError",
     "evalue": "name 'cell' is not defined",
     "output_type": "error",
     "traceback": [
      "\u001b[1;31m---------------------------------------------------------------------------\u001b[0m",
      "\u001b[1;31mNameError\u001b[0m                                 Traceback (most recent call last)",
      "\u001b[1;32m<ipython-input-218-b782362f3cd5>\u001b[0m in \u001b[0;36m<module>\u001b[1;34m\u001b[0m\n\u001b[0;32m      4\u001b[0m     \u001b[0matomind\u001b[0m\u001b[1;33m=\u001b[0m\u001b[0mu\u001b[0m\u001b[1;33m\u001b[0m\u001b[1;33m\u001b[0m\u001b[0m\n\u001b[0;32m      5\u001b[0m     \u001b[0mx\u001b[0m\u001b[1;33m=\u001b[0m\u001b[1;33m[\u001b[0m\u001b[1;33m]\u001b[0m\u001b[1;33m\u001b[0m\u001b[1;33m\u001b[0m\u001b[0m\n\u001b[1;32m----> 6\u001b[1;33m     \u001b[0my\u001b[0m\u001b[1;33m=\u001b[0m\u001b[0mcell\u001b[0m\u001b[1;33m.\u001b[0m\u001b[0mget_neighbors\u001b[0m\u001b[1;33m(\u001b[0m\u001b[0mcell\u001b[0m\u001b[1;33m.\u001b[0m\u001b[0msites\u001b[0m\u001b[1;33m[\u001b[0m\u001b[0matomind\u001b[0m\u001b[1;33m]\u001b[0m\u001b[1;33m,\u001b[0m\u001b[1;36m5\u001b[0m\u001b[1;33m)\u001b[0m\u001b[1;33m\u001b[0m\u001b[1;33m\u001b[0m\u001b[0m\n\u001b[0m\u001b[0;32m      7\u001b[0m     \u001b[1;32mfor\u001b[0m \u001b[0mi\u001b[0m \u001b[1;32min\u001b[0m \u001b[0mrange\u001b[0m \u001b[1;33m(\u001b[0m\u001b[1;36m0\u001b[0m\u001b[1;33m,\u001b[0m\u001b[0mlen\u001b[0m\u001b[1;33m(\u001b[0m\u001b[0my\u001b[0m\u001b[1;33m)\u001b[0m\u001b[1;33m)\u001b[0m\u001b[1;33m:\u001b[0m\u001b[1;33m\u001b[0m\u001b[1;33m\u001b[0m\u001b[0m\n\u001b[0;32m      8\u001b[0m         \u001b[0mx\u001b[0m\u001b[1;33m.\u001b[0m\u001b[0mappend\u001b[0m\u001b[1;33m(\u001b[0m\u001b[0mcell\u001b[0m\u001b[1;33m.\u001b[0m\u001b[0msites\u001b[0m\u001b[1;33m[\u001b[0m\u001b[0matomind\u001b[0m\u001b[1;33m]\u001b[0m\u001b[1;33m.\u001b[0m\u001b[0mdistance\u001b[0m\u001b[1;33m(\u001b[0m\u001b[0my\u001b[0m\u001b[1;33m[\u001b[0m\u001b[0mi\u001b[0m\u001b[1;33m]\u001b[0m\u001b[1;33m)\u001b[0m\u001b[1;33m)\u001b[0m\u001b[1;33m\u001b[0m\u001b[1;33m\u001b[0m\u001b[0m\n",
      "\u001b[1;31mNameError\u001b[0m: name 'cell' is not defined"
     ]
    }
   ],
   "source": [
    "coordination=12\n",
    "average=np.zeros([1,coordination])\n",
    "for u in range (2+2+4+4+12,2+2+4+4+12+2):\n",
    "    atomind=u\n",
    "    x=[]\n",
    "    y=cell.get_neighbors(cell.sites[atomind],5)\n",
    "    for i in range (0,len(y)):\n",
    "        x.append(cell.sites[atomind].distance(y[i]))\n",
    "    x.sort()\n",
    "    print(x[0:coordination])\n",
    "    x=np.array(x)                \n",
    "    average += x[0:coordination]\n",
    "average=average/2\n",
    "print(average)"
   ]
  },
  {
   "cell_type": "markdown",
   "metadata": {},
   "source": [
    "## Force evaluation on M2 site"
   ]
  },
  {
   "cell_type": "code",
   "execution_count": 219,
   "metadata": {},
   "outputs": [],
   "source": [
    "p1=[]\n",
    "p2=[]\n",
    "f1=[]\n",
    "f2=[]\n",
    "step=[]\n",
    "for i in range (0,len(x)):\n",
    "    step.append(i)\n",
    "    p1.append(zdisp-(x[i][2:4][0][2]))\n",
    "    p2.append(zdisp2-(x[i][2:4][1][2]))\n",
    "    f1.append((y[i][2:4][0][2]))\n",
    "    f2.append((y[i][2:4][1][2]))"
   ]
  },
  {
   "cell_type": "code",
   "execution_count": 13,
   "metadata": {},
   "outputs": [
    {
     "ename": "ValueError",
     "evalue": "x and y must have same first dimension, but have shapes (1,) and (0,)",
     "output_type": "error",
     "traceback": [
      "\u001b[1;31m---------------------------------------------------------------------------\u001b[0m",
      "\u001b[1;31mValueError\u001b[0m                                Traceback (most recent call last)",
      "\u001b[1;32m<ipython-input-13-a5f217e1f447>\u001b[0m in \u001b[0;36m<module>\u001b[1;34m\u001b[0m\n\u001b[0;32m      1\u001b[0m \u001b[0mfig\u001b[0m\u001b[1;33m=\u001b[0m\u001b[0mplt\u001b[0m\u001b[1;33m.\u001b[0m\u001b[0mfigure\u001b[0m\u001b[1;33m(\u001b[0m\u001b[1;33m)\u001b[0m\u001b[1;33m\u001b[0m\u001b[1;33m\u001b[0m\u001b[0m\n\u001b[0;32m      2\u001b[0m \u001b[0max1\u001b[0m\u001b[1;33m=\u001b[0m\u001b[0mplt\u001b[0m\u001b[1;33m.\u001b[0m\u001b[0msubplot\u001b[0m\u001b[1;33m(\u001b[0m\u001b[1;36m321\u001b[0m\u001b[1;33m)\u001b[0m\u001b[1;33m\u001b[0m\u001b[1;33m\u001b[0m\u001b[0m\n\u001b[1;32m----> 3\u001b[1;33m \u001b[0mplt\u001b[0m\u001b[1;33m.\u001b[0m\u001b[0mplot\u001b[0m\u001b[1;33m(\u001b[0m\u001b[0mstep\u001b[0m\u001b[1;33m,\u001b[0m\u001b[0mf1\u001b[0m\u001b[1;33m,\u001b[0m\u001b[1;34m'-'\u001b[0m\u001b[1;33m)\u001b[0m\u001b[1;33m\u001b[0m\u001b[1;33m\u001b[0m\u001b[0m\n\u001b[0m\u001b[0;32m      4\u001b[0m \u001b[0mplt\u001b[0m\u001b[1;33m.\u001b[0m\u001b[0mtext\u001b[0m\u001b[1;33m(\u001b[0m\u001b[1;36m0.45\u001b[0m\u001b[1;33m,\u001b[0m \u001b[1;36m1.3\u001b[0m\u001b[1;33m,\u001b[0m \u001b[1;34m\"position 1\"\u001b[0m\u001b[1;33m,\u001b[0m \u001b[0mfontweight\u001b[0m\u001b[1;33m=\u001b[0m\u001b[1;34m\"bold\"\u001b[0m\u001b[1;33m,\u001b[0m \u001b[0mtransform\u001b[0m\u001b[1;33m=\u001b[0m\u001b[0max1\u001b[0m\u001b[1;33m.\u001b[0m\u001b[0mtransAxes\u001b[0m\u001b[1;33m)\u001b[0m\u001b[1;33m\u001b[0m\u001b[1;33m\u001b[0m\u001b[0m\n\u001b[0;32m      5\u001b[0m \u001b[0mplt\u001b[0m\u001b[1;33m.\u001b[0m\u001b[0mtitle\u001b[0m\u001b[1;33m(\u001b[0m\u001b[1;34m'force vs step'\u001b[0m\u001b[1;33m)\u001b[0m\u001b[1;33m\u001b[0m\u001b[1;33m\u001b[0m\u001b[0m\n",
      "\u001b[1;32m~\\anaconda3\\lib\\site-packages\\matplotlib\\pyplot.py\u001b[0m in \u001b[0;36mplot\u001b[1;34m(scalex, scaley, data, *args, **kwargs)\u001b[0m\n\u001b[0;32m   2838\u001b[0m \u001b[1;33m@\u001b[0m\u001b[0m_copy_docstring_and_deprecators\u001b[0m\u001b[1;33m(\u001b[0m\u001b[0mAxes\u001b[0m\u001b[1;33m.\u001b[0m\u001b[0mplot\u001b[0m\u001b[1;33m)\u001b[0m\u001b[1;33m\u001b[0m\u001b[1;33m\u001b[0m\u001b[0m\n\u001b[0;32m   2839\u001b[0m \u001b[1;32mdef\u001b[0m \u001b[0mplot\u001b[0m\u001b[1;33m(\u001b[0m\u001b[1;33m*\u001b[0m\u001b[0margs\u001b[0m\u001b[1;33m,\u001b[0m \u001b[0mscalex\u001b[0m\u001b[1;33m=\u001b[0m\u001b[1;32mTrue\u001b[0m\u001b[1;33m,\u001b[0m \u001b[0mscaley\u001b[0m\u001b[1;33m=\u001b[0m\u001b[1;32mTrue\u001b[0m\u001b[1;33m,\u001b[0m \u001b[0mdata\u001b[0m\u001b[1;33m=\u001b[0m\u001b[1;32mNone\u001b[0m\u001b[1;33m,\u001b[0m \u001b[1;33m**\u001b[0m\u001b[0mkwargs\u001b[0m\u001b[1;33m)\u001b[0m\u001b[1;33m:\u001b[0m\u001b[1;33m\u001b[0m\u001b[1;33m\u001b[0m\u001b[0m\n\u001b[1;32m-> 2840\u001b[1;33m     return gca().plot(\n\u001b[0m\u001b[0;32m   2841\u001b[0m         \u001b[1;33m*\u001b[0m\u001b[0margs\u001b[0m\u001b[1;33m,\u001b[0m \u001b[0mscalex\u001b[0m\u001b[1;33m=\u001b[0m\u001b[0mscalex\u001b[0m\u001b[1;33m,\u001b[0m \u001b[0mscaley\u001b[0m\u001b[1;33m=\u001b[0m\u001b[0mscaley\u001b[0m\u001b[1;33m,\u001b[0m\u001b[1;33m\u001b[0m\u001b[1;33m\u001b[0m\u001b[0m\n\u001b[0;32m   2842\u001b[0m         **({\"data\": data} if data is not None else {}), **kwargs)\n",
      "\u001b[1;32m~\\anaconda3\\lib\\site-packages\\matplotlib\\axes\\_axes.py\u001b[0m in \u001b[0;36mplot\u001b[1;34m(self, scalex, scaley, data, *args, **kwargs)\u001b[0m\n\u001b[0;32m   1741\u001b[0m         \"\"\"\n\u001b[0;32m   1742\u001b[0m         \u001b[0mkwargs\u001b[0m \u001b[1;33m=\u001b[0m \u001b[0mcbook\u001b[0m\u001b[1;33m.\u001b[0m\u001b[0mnormalize_kwargs\u001b[0m\u001b[1;33m(\u001b[0m\u001b[0mkwargs\u001b[0m\u001b[1;33m,\u001b[0m \u001b[0mmlines\u001b[0m\u001b[1;33m.\u001b[0m\u001b[0mLine2D\u001b[0m\u001b[1;33m)\u001b[0m\u001b[1;33m\u001b[0m\u001b[1;33m\u001b[0m\u001b[0m\n\u001b[1;32m-> 1743\u001b[1;33m         \u001b[0mlines\u001b[0m \u001b[1;33m=\u001b[0m \u001b[1;33m[\u001b[0m\u001b[1;33m*\u001b[0m\u001b[0mself\u001b[0m\u001b[1;33m.\u001b[0m\u001b[0m_get_lines\u001b[0m\u001b[1;33m(\u001b[0m\u001b[1;33m*\u001b[0m\u001b[0margs\u001b[0m\u001b[1;33m,\u001b[0m \u001b[0mdata\u001b[0m\u001b[1;33m=\u001b[0m\u001b[0mdata\u001b[0m\u001b[1;33m,\u001b[0m \u001b[1;33m**\u001b[0m\u001b[0mkwargs\u001b[0m\u001b[1;33m)\u001b[0m\u001b[1;33m]\u001b[0m\u001b[1;33m\u001b[0m\u001b[1;33m\u001b[0m\u001b[0m\n\u001b[0m\u001b[0;32m   1744\u001b[0m         \u001b[1;32mfor\u001b[0m \u001b[0mline\u001b[0m \u001b[1;32min\u001b[0m \u001b[0mlines\u001b[0m\u001b[1;33m:\u001b[0m\u001b[1;33m\u001b[0m\u001b[1;33m\u001b[0m\u001b[0m\n\u001b[0;32m   1745\u001b[0m             \u001b[0mself\u001b[0m\u001b[1;33m.\u001b[0m\u001b[0madd_line\u001b[0m\u001b[1;33m(\u001b[0m\u001b[0mline\u001b[0m\u001b[1;33m)\u001b[0m\u001b[1;33m\u001b[0m\u001b[1;33m\u001b[0m\u001b[0m\n",
      "\u001b[1;32m~\\anaconda3\\lib\\site-packages\\matplotlib\\axes\\_base.py\u001b[0m in \u001b[0;36m__call__\u001b[1;34m(self, data, *args, **kwargs)\u001b[0m\n\u001b[0;32m    271\u001b[0m                 \u001b[0mthis\u001b[0m \u001b[1;33m+=\u001b[0m \u001b[0margs\u001b[0m\u001b[1;33m[\u001b[0m\u001b[1;36m0\u001b[0m\u001b[1;33m]\u001b[0m\u001b[1;33m,\u001b[0m\u001b[1;33m\u001b[0m\u001b[1;33m\u001b[0m\u001b[0m\n\u001b[0;32m    272\u001b[0m                 \u001b[0margs\u001b[0m \u001b[1;33m=\u001b[0m \u001b[0margs\u001b[0m\u001b[1;33m[\u001b[0m\u001b[1;36m1\u001b[0m\u001b[1;33m:\u001b[0m\u001b[1;33m]\u001b[0m\u001b[1;33m\u001b[0m\u001b[1;33m\u001b[0m\u001b[0m\n\u001b[1;32m--> 273\u001b[1;33m             \u001b[1;32myield\u001b[0m \u001b[1;32mfrom\u001b[0m \u001b[0mself\u001b[0m\u001b[1;33m.\u001b[0m\u001b[0m_plot_args\u001b[0m\u001b[1;33m(\u001b[0m\u001b[0mthis\u001b[0m\u001b[1;33m,\u001b[0m \u001b[0mkwargs\u001b[0m\u001b[1;33m)\u001b[0m\u001b[1;33m\u001b[0m\u001b[1;33m\u001b[0m\u001b[0m\n\u001b[0m\u001b[0;32m    274\u001b[0m \u001b[1;33m\u001b[0m\u001b[0m\n\u001b[0;32m    275\u001b[0m     \u001b[1;32mdef\u001b[0m \u001b[0mget_next_color\u001b[0m\u001b[1;33m(\u001b[0m\u001b[0mself\u001b[0m\u001b[1;33m)\u001b[0m\u001b[1;33m:\u001b[0m\u001b[1;33m\u001b[0m\u001b[1;33m\u001b[0m\u001b[0m\n",
      "\u001b[1;32m~\\anaconda3\\lib\\site-packages\\matplotlib\\axes\\_base.py\u001b[0m in \u001b[0;36m_plot_args\u001b[1;34m(self, tup, kwargs)\u001b[0m\n\u001b[0;32m    397\u001b[0m \u001b[1;33m\u001b[0m\u001b[0m\n\u001b[0;32m    398\u001b[0m         \u001b[1;32mif\u001b[0m \u001b[0mx\u001b[0m\u001b[1;33m.\u001b[0m\u001b[0mshape\u001b[0m\u001b[1;33m[\u001b[0m\u001b[1;36m0\u001b[0m\u001b[1;33m]\u001b[0m \u001b[1;33m!=\u001b[0m \u001b[0my\u001b[0m\u001b[1;33m.\u001b[0m\u001b[0mshape\u001b[0m\u001b[1;33m[\u001b[0m\u001b[1;36m0\u001b[0m\u001b[1;33m]\u001b[0m\u001b[1;33m:\u001b[0m\u001b[1;33m\u001b[0m\u001b[1;33m\u001b[0m\u001b[0m\n\u001b[1;32m--> 399\u001b[1;33m             raise ValueError(f\"x and y must have same first dimension, but \"\n\u001b[0m\u001b[0;32m    400\u001b[0m                              f\"have shapes {x.shape} and {y.shape}\")\n\u001b[0;32m    401\u001b[0m         \u001b[1;32mif\u001b[0m \u001b[0mx\u001b[0m\u001b[1;33m.\u001b[0m\u001b[0mndim\u001b[0m \u001b[1;33m>\u001b[0m \u001b[1;36m2\u001b[0m \u001b[1;32mor\u001b[0m \u001b[0my\u001b[0m\u001b[1;33m.\u001b[0m\u001b[0mndim\u001b[0m \u001b[1;33m>\u001b[0m \u001b[1;36m2\u001b[0m\u001b[1;33m:\u001b[0m\u001b[1;33m\u001b[0m\u001b[1;33m\u001b[0m\u001b[0m\n",
      "\u001b[1;31mValueError\u001b[0m: x and y must have same first dimension, but have shapes (1,) and (0,)"
     ]
    }
   ],
   "source": [
    "fig=plt.figure()\n",
    "ax1=plt.subplot(321)\n",
    "plt.plot(step,f1,'-')\n",
    "plt.text(0.45, 1.3, \"position 1\", fontweight=\"bold\", transform=ax1.transAxes)\n",
    "plt.title('force vs step')\n",
    "plt.subplot(323)\n",
    "plt.plot(p1,f1,'-')\n",
    "plt.title('force vs atom displacement')\n",
    "ax2=plt.subplot(322)\n",
    "plt.plot(step,f2,'-')\n",
    "plt.text(0.45, 1.3, \"position 2\", fontweight=\"bold\", transform=ax2.transAxes)\n",
    "plt.title('force vs step')\n",
    "plt.subplot(324)\n",
    "plt.plot(p2,f2,'-')\n",
    "plt.title('force vs atom displacement')\n",
    "plt.subplot(325)\n",
    "plt.plot(step,p1+zdisp,'.')\n",
    "plt.title('displacement vs step')\n",
    "plt.subplot(326)\n",
    "plt.plot(step,p2+zdisp2,'.')\n",
    "plt.title('displacement vs step')\n"
   ]
  },
  {
   "cell_type": "code",
   "execution_count": 198,
   "metadata": {},
   "outputs": [],
   "source": [
    "totdisp=[]\n",
    "totdisp=p1\n",
    "totdisp.extend(p2)\n",
    "totf=[]\n",
    "totf=f1\n",
    "totf.extend(f2)"
   ]
  },
  {
   "cell_type": "code",
   "execution_count": 199,
   "metadata": {},
   "outputs": [
    {
     "data": {
      "text/plain": [
       "Text(0.5, 1.0, 'force vs step')"
      ]
     },
     "execution_count": 199,
     "metadata": {},
     "output_type": "execute_result"
    }
   ],
   "source": [
    "plt.figure()\n",
    "plt.plot(totdisp,totf,'-')\n",
    "plt.title('force vs step')"
   ]
  },
  {
   "cell_type": "markdown",
   "metadata": {},
   "source": [
    "## Al4 site"
   ]
  },
  {
   "cell_type": "code",
   "execution_count": 214,
   "metadata": {},
   "outputs": [],
   "source": [
    "p1=[]\n",
    "p2=[]\n",
    "f1=[]\n",
    "f2=[]\n",
    "step=[]\n",
    "for i in range (0,len(x)):\n",
    "    step.append(i)\n",
    "    p1.append((x[i][8:12][0][2]))\n",
    "    p2.append((x[i][8:12][1][2]))\n",
    "    f1.append((y[i][8:12][0][2]))\n",
    "    f2.append((y[i][8:12][1][2]))"
   ]
  },
  {
   "cell_type": "code",
   "execution_count": 216,
   "metadata": {},
   "outputs": [
    {
     "data": {
      "text/plain": [
       "Text(0.5, 1.0, 'force vs atom displacement')"
      ]
     },
     "execution_count": 216,
     "metadata": {},
     "output_type": "execute_result"
    }
   ],
   "source": [
    "plt.figure()\n",
    "plt.subplot(221)\n",
    "plt.plot(step,f1,'.')\n",
    "plt.title('force vs step')\n",
    "plt.subplot(222)\n",
    "plt.plot(p1,f1,'.')\n",
    "plt.title('force vs atom displacement')\n",
    "plt.subplot(223)\n",
    "plt.plot(step,f2,'.')\n",
    "plt.title('force vs step')\n",
    "plt.subplot(224)\n",
    "plt.plot(p2,f2,'.')\n",
    "plt.title('force vs atom displacement')"
   ]
  },
  {
   "cell_type": "code",
   "execution_count": 217,
   "metadata": {},
   "outputs": [
    {
     "data": {
      "text/plain": [
       "Text(0.5, 1.0, 'force vs step')"
      ]
     },
     "execution_count": 217,
     "metadata": {},
     "output_type": "execute_result"
    }
   ],
   "source": [
    "plt.figure()\n",
    "plt.subplot(211)\n",
    "plt.plot(step,p1,'.')\n",
    "plt.title('force vs step')\n",
    "plt.subplot(212)\n",
    "plt.plot(step,p2,'.')\n",
    "plt.title('force vs step')"
   ]
  },
  {
   "cell_type": "code",
   "execution_count": 7,
   "metadata": {},
   "outputs": [],
   "source": [
    "# for f in outcar.iforces:\n",
    "#     if f.step == 1:\n",
    "#         break"
   ]
  },
  {
   "cell_type": "code",
   "execution_count": 96,
   "metadata": {},
   "outputs": [
    {
     "data": {
      "text/plain": [
       "[[0.0, 0.0, 0.0],\n",
       " [0.0, 0.0, 10.90043],\n",
       " [0.0, 0.0, 5.45022],\n",
       " [0.0, 0.0, 16.35065],\n",
       " [0.0, 3.21591, 0.62177],\n",
       " [2.78506, 1.60795, 21.17909],\n",
       " [2.78506, 1.60795, 11.5222],\n",
       " [0.0, 3.21591, 10.27866],\n",
       " [0.0, 3.21591, 4.17051],\n",
       " [2.78506, 1.60795, 17.63035],\n",
       " [2.78506, 1.60795, 15.07094],\n",
       " [0.0, 3.21591, 6.72992],\n",
       " [-1.37951, 4.01237, 19.40821],\n",
       " [4.16457, 0.81149, 2.39265],\n",
       " [0.0, 1.62299, 19.40821],\n",
       " [2.78506, 3.20088, 2.39265],\n",
       " [1.37951, 4.01237, 19.40821],\n",
       " [1.40555, 0.81149, 2.39265],\n",
       " [4.16457, 0.81149, 8.50778],\n",
       " [-1.37951, 4.01237, 13.29308],\n",
       " [2.78506, 3.20088, 8.50778],\n",
       " [0.0, 1.62299, 13.29308],\n",
       " [1.40555, 0.81149, 8.50778],\n",
       " [1.37951, 4.01237, 13.29308],\n",
       " [2.78506, 1.60796, 5.45022],\n",
       " [0.0, 3.21591, 16.35065],\n",
       " [0.0, 0.0, 3.29242],\n",
       " [0.0, 0.0, 18.50844],\n",
       " [0.0, 0.0, 14.19285],\n",
       " [0.0, 0.0, 7.60801],\n",
       " [0.0, 3.21591, 20.61318],\n",
       " [2.78506, 1.60795, 1.18768],\n",
       " [2.78506, 1.60795, 9.71275],\n",
       " [0.0, 3.21591, 12.08811],\n",
       " [-1.267, 3.94741, 5.45022],\n",
       " [4.05206, 0.87645, 16.35065],\n",
       " [0.0, 1.75291, 5.45022],\n",
       " [2.78506, 3.07096, 16.35065],\n",
       " [1.267, 3.94741, 5.45022],\n",
       " [1.51806, 0.87645, 16.35065],\n",
       " [-1.49004, 4.07618, 1.14518],\n",
       " [4.2751, 0.74768, 20.65568],\n",
       " [0.0, 1.49536, 1.14518],\n",
       " [2.78506, 3.3285, 20.65568],\n",
       " [1.49004, 4.07618, 1.14518],\n",
       " [1.29502, 0.74768, 20.65568],\n",
       " [4.2751, 0.74768, 12.04561],\n",
       " [-1.49004, 4.07618, 9.75525],\n",
       " [2.78506, 3.3285, 12.04561],\n",
       " [0.0, 1.49536, 9.75525],\n",
       " [1.29502, 0.74768, 12.04561],\n",
       " [1.49004, 4.07618, 9.75525],\n",
       " [1.42146, 2.39523, 3.26667],\n",
       " [1.3636, 2.42864, 18.53419],\n",
       " [2.78506, 0.03341, 3.26667],\n",
       " [-0.0, 4.79046, 18.53419],\n",
       " [4.14866, 2.39523, 3.26667],\n",
       " [-1.3636, 2.42864, 18.53419],\n",
       " [1.3636, 2.42864, 14.1671],\n",
       " [1.42146, 2.39523, 7.63376],\n",
       " [-0.0, 4.79046, 14.1671],\n",
       " [2.78506, 0.03341, 7.63376],\n",
       " [-1.3636, 2.42864, 14.1671],\n",
       " [4.14866, 2.39523, 7.63376]]"
      ]
     },
     "execution_count": 96,
     "metadata": {},
     "output_type": "execute_result"
    }
   ],
   "source": [
    "f.coordinates"
   ]
  },
  {
   "cell_type": "code",
   "execution_count": 9,
   "metadata": {},
   "outputs": [
    {
     "data": {
      "text/plain": [
       "[[0.0, 0.0, 0.0],\n",
       " [0.0, 0.0, 0.0],\n",
       " [0.0, 0.0, 0.0],\n",
       " [0.0, 0.0, 0.0],\n",
       " [0.0, 0.0, 0.153312],\n",
       " [0.0, 0.0, -0.153312],\n",
       " [0.0, 0.0, 0.153312],\n",
       " [0.0, 0.0, -0.153312],\n",
       " [0.0, 0.0, 0.111398],\n",
       " [0.0, 0.0, -0.111398],\n",
       " [0.0, 0.0, 0.111398],\n",
       " [0.0, 0.0, -0.111398],\n",
       " [-0.088036, 0.050827, 0.095752],\n",
       " [0.088036, -0.050827, -0.095752],\n",
       " [0.0, -0.101655, 0.095752],\n",
       " [0.0, 0.101655, -0.095752],\n",
       " [0.088036, 0.050827, 0.095752],\n",
       " [-0.088036, -0.050827, -0.095752],\n",
       " [0.088036, -0.050827, 0.095752],\n",
       " [-0.088036, 0.050827, -0.095752],\n",
       " [0.0, 0.101655, 0.095752],\n",
       " [0.0, -0.101655, -0.095752],\n",
       " [-0.088036, -0.050827, 0.095752],\n",
       " [0.088036, 0.050827, -0.095752],\n",
       " [0.0, 0.0, 0.0],\n",
       " [0.0, 0.0, 0.0],\n",
       " [0.0, 0.0, 0.037287],\n",
       " [0.0, 0.0, -0.037287],\n",
       " [0.0, 0.0, 0.037287],\n",
       " [0.0, 0.0, -0.037287],\n",
       " [0.0, 0.0, -0.088884],\n",
       " [0.0, 0.0, 0.088884],\n",
       " [0.0, 0.0, -0.088884],\n",
       " [0.0, 0.0, 0.088884],\n",
       " [-0.196555, 0.113481, 0.0],\n",
       " [0.196555, -0.113481, 0.0],\n",
       " [0.0, -0.226963, 0.0],\n",
       " [-0.0, 0.226963, 0.0],\n",
       " [0.196555, 0.113481, 0.0],\n",
       " [-0.196555, -0.113481, 0.0],\n",
       " [-0.133757, 0.077225, 0.042377],\n",
       " [0.133757, -0.077225, -0.042377],\n",
       " [-0.0, -0.15445, 0.042377],\n",
       " [0.0, 0.15445, -0.042377],\n",
       " [0.133757, 0.077225, 0.042377],\n",
       " [-0.133757, -0.077225, -0.042377],\n",
       " [0.133757, -0.077225, 0.042377],\n",
       " [-0.133757, 0.077225, -0.042377],\n",
       " [0.0, 0.15445, 0.042377],\n",
       " [-0.0, -0.15445, -0.042377],\n",
       " [-0.133757, -0.077225, 0.042377],\n",
       " [0.133757, 0.077225, -0.042377],\n",
       " [-0.153008, 0.088339, 0.151616],\n",
       " [0.153008, -0.088339, -0.151616],\n",
       " [0.0, -0.176679, 0.151616],\n",
       " [0.0, 0.176679, -0.151616],\n",
       " [0.153008, 0.088339, 0.151616],\n",
       " [-0.153008, -0.088339, -0.151616],\n",
       " [0.153008, -0.088339, 0.151616],\n",
       " [-0.153008, 0.088339, -0.151616],\n",
       " [0.0, 0.176679, 0.151616],\n",
       " [0.0, -0.176679, -0.151616],\n",
       " [-0.153008, -0.088339, 0.151616],\n",
       " [0.153008, 0.088339, -0.151616]]"
      ]
     },
     "execution_count": 9,
     "metadata": {},
     "output_type": "execute_result"
    }
   ],
   "source": [
    "f.forces"
   ]
  },
  {
   "cell_type": "code",
   "execution_count": 10,
   "metadata": {},
   "outputs": [],
   "source": [
    "natom, force = outcar.fmax(f.forces)  # atom number, force vector along x y z axis"
   ]
  },
  {
   "cell_type": "code",
   "execution_count": 11,
   "metadata": {},
   "outputs": [
    {
     "data": {
      "text/plain": [
       "55"
      ]
     },
     "execution_count": 11,
     "metadata": {},
     "output_type": "execute_result"
    }
   ],
   "source": [
    "natom"
   ]
  },
  {
   "cell_type": "code",
   "execution_count": 12,
   "metadata": {},
   "outputs": [
    {
     "data": {
      "text/plain": [
       "[0.0, -0.176679, 0.151616]"
      ]
     },
     "execution_count": 12,
     "metadata": {},
     "output_type": "execute_result"
    }
   ],
   "source": [
    "force"
   ]
  },
  {
   "cell_type": "code",
   "execution_count": null,
   "metadata": {},
   "outputs": [],
   "source": []
  }
 ],
 "metadata": {
  "anaconda-cloud": {},
  "kernelspec": {
   "display_name": "Python 3",
   "language": "python",
   "name": "python3"
  },
  "language_info": {
   "codemirror_mode": {
    "name": "ipython",
    "version": 3
   },
   "file_extension": ".py",
   "mimetype": "text/x-python",
   "name": "python",
   "nbconvert_exporter": "python",
   "pygments_lexer": "ipython3",
   "version": "3.8.8"
  }
 },
 "nbformat": 4,
 "nbformat_minor": 1
}
